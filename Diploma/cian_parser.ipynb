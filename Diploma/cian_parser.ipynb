{
 "cells": [
  {
   "cell_type": "code",
   "execution_count": 282,
   "metadata": {},
   "outputs": [],
   "source": [
    "import requests, json\n",
    "import pandas as pd\n",
    "import time\n",
    "from pprint import pprint"
   ]
  },
  {
   "cell_type": "markdown",
   "metadata": {},
   "source": [
    "Для создания запроса нам необходимы URL и заголовки:"
   ]
  },
  {
   "cell_type": "code",
   "execution_count": 283,
   "metadata": {},
   "outputs": [],
   "source": [
    "URL = \"https://api.cian.ru/search-offers/v2/search-offers-desktop/\"\n",
    "HEADERS = '''\n",
    "Host: api.cian.ru\n",
    "User-Agent: Mozilla/5.0 (X11; Ubuntu; Linux x86_64; rv:84.0) Gecko/20100101 Firefox/84.0\n",
    "Accept: */*\n",
    "Accept-Language: en-US,en;q=0.5\n",
    "Accept-Encoding: gzip, deflate, br\n",
    "Content-Type: text/plain;charset=UTF-8\n",
    "Content-Length: 189\n",
    "Origin: https://gelendzhik.cian.ru\n",
    "Connection: keep-alive\n",
    "Referer: https://gelendzhik.cian.ru/kupit-kvartiru-1-komn-ili-2-komn/\n",
    "Cookie: _CIAN_GK=e1485733-c7bd-4824-816d-96ee49652807; _gcl_au=1.1.1235519054.1602541655; uxfb_usertype=searcher; uxs_uid=21745cd0-0cda-11eb-b91a-0114d1420f68; tmr_reqNum=605; tmr_lvid=c4a12d3ce2fab799408021492141dc5a; tmr_lvidTS=1602541660752; _ga=GA1.2.968885258.1602541661; cto_bundle=2RqWe19kc0pra0ozcnklMkJYb3QwekRTUDI2QkEzNUk3Y2tUTnRpWVJyJTJCNHJySFl4Z0c2cGd3RXROdjFBRjFNYXVsbEVoTkx3UmR1QlIxajMweWkxeSUyQnFNM3FHbHdTWTh0eFQ5M0d6alNrYjZVNzZnYThvWW9YJTJGcnkxcFZNJTJCYkU0ZTVYb0VZa1BNeml6WEs1eG9jdGdnZllaUFlRJTNEJTNE; _fbp=fb.1.1602541662850.2076142724; afUserId=f6edbebc-3ff1-4f21-af31-81d6b8792cde-p; pview=4; audience_serp_light=test; DeviceId_8033377=3bbeddaa-3d80-4ed9-86a1-d3435d160a0c; cian_ruid=8033377; hide_onboarding=1; __cfduid=db227f5670745f39a3126d52256916fb31608903181; sopr_utm=%7B%22utm_source%22%3A+%22direct%22%2C+%22utm_medium%22%3A+%22None%22%7D; uxs_mig=1; serp_registration_trigger_popup=1; cookie_agreement_accepted=true; _gid=GA1.2.135386756.1609166479; offerCardCountCallNowPopupShowed=0%3A1609194812688; save_search_animation_done=rawr; newobject_scount=2; newobject_active=1; newobject_all=1; serp_stalker_banner=1; session_region_id=4717; session_main_town_region_id=4717; login_mro_popup=meow; fingerprint=85e88541bbda82b71e63d65e2bd894a1; first_visit_time=1609167706629; __cf_bm=0e0724ee920c7a858901c7e8ecb3d9ed95285314-1609247579-1800-AaA9KuF7gNN0JUG7pG3IXyZsvGoxS7QdKBUk8oMNgKFfwavCzYC85tE+5WgGLhTDa2i8OwGfFTCihep1JF2XSys=; sopr_session=5894d74877a24f74; anti_bot=\"2|1:0|10:1609247581|8:anti_bot|44:eyJyZW1vdGVfaXAiOiAiOTEuMjI2LjE3Mi4yMzIifQ==|e7e9ffb92383a7b28ad76aa27441d78e484a3d135184122bd9093f1a2736e59f\"; _dc_gtm_UA-30374201-1=1; _gat_UA-30374201-1=1\n",
    "TE: Trailers\n",
    "'''.strip().split(\"\\n\")"
   ]
  },
  {
   "cell_type": "markdown",
   "metadata": {},
   "source": [
    "Преобразуем заголовки в словарь для передачи его в запросе"
   ]
  },
  {
   "cell_type": "code",
   "execution_count": 284,
   "metadata": {},
   "outputs": [],
   "source": [
    "dict_headers = {}\n",
    "for header in HEADERS:\n",
    "    key, value = header.split(': ')\n",
    "    dict_headers[key] = value"
   ]
  },
  {
   "cell_type": "markdown",
   "metadata": {},
   "source": [
    "Создадим цикл, который будет для каждой страницы из диапазона выгрузит данные и запишет их в список offers.\n",
    "Во время работы цикла не рекомендуется заходить на сайт через браузер, были замечены зависания скрипта."
   ]
  },
  {
   "cell_type": "code",
   "execution_count": 285,
   "metadata": {},
   "outputs": [],
   "source": [
    "# Сочи 4998\n",
    "\n",
    "# Новороссийск 4896\n",
    "# Туапсе 176134\n",
    "# Геленджик 4717\n",
    "# Анапа - 174191\n",
    "# 184723 - Севастополь\n",
    "# 184734 - Симферополь\n",
    "# 184739 - Ялта   \n",
    "# 184733 - Саки\n",
    "# 184730 - Евпатория\n",
    "# 184736 - Судак\n",
    "# 184737 - Феодосия\n",
    "# 184731 - Керчь\n",
    "# 184730 - Евпатория\n",
    "# 184725 - Алушта\n",
    "# 241380 - Алупка\n",
    "# 184734 - Симферополь"
   ]
  },
  {
   "cell_type": "code",
   "execution_count": 286,
   "metadata": {
    "scrolled": true
   },
   "outputs": [
    {
     "name": "stdout",
     "output_type": "stream",
     "text": [
      "Finished page:  1\n",
      "Finished page:  2\n",
      "Finished page:  3\n",
      "Finished page:  4\n",
      "Finished page:  5\n",
      "Finished page:  6\n",
      "Finished page:  7\n",
      "Finished page:  8\n",
      "Finished page:  9\n",
      "Finished page:  10\n",
      "Finished page:  11\n",
      "Finished page:  12\n",
      "Finished page:  13\n",
      "Finished page:  14\n",
      "Finished page:  15\n",
      "Finished page:  16\n",
      "Finished page:  17\n",
      "Finished page:  18\n",
      "Finished page:  19\n",
      "Finished page:  20\n",
      "Finished page:  21\n",
      "Finished page:  22\n",
      "Finished page:  23\n",
      "Finished page:  24\n",
      "Finished page:  25\n",
      "Finished page:  26\n",
      "Finished page:  27\n",
      "Finished page:  28\n",
      "Finished page:  29\n",
      "Finished page:  30\n",
      "Finished page:  31\n",
      "Finished page:  32\n",
      "Finished page:  33\n",
      "Finished page:  34\n",
      "Finished page:  35\n",
      "Finished page:  36\n",
      "Finished page:  37\n",
      "Finished page:  38\n",
      "Finished page:  39\n",
      "Finished page:  40\n",
      "Finished page:  41\n",
      "Finished page:  42\n",
      "Finished page:  43\n",
      "Finished page:  44\n",
      "Finished page:  45\n",
      "Finished page:  46\n",
      "Finished page:  47\n",
      "Finished page:  48\n",
      "Finished page:  49\n",
      "Finished page:  50\n",
      "Finished page:  51\n",
      "Finished page:  52\n",
      "Finished page:  53\n",
      "Finished page:  54\n",
      "Finished page:  55\n",
      "Finished page:  56\n",
      "Finished page:  57\n",
      "Finished page:  58\n",
      "Finished page:  59\n",
      "Finished page:  60\n",
      "Finished page:  61\n",
      "Finished page:  62\n",
      "Finished page:  63\n",
      "Finished page:  64\n",
      "Finished page:  65\n",
      "Finished page:  66\n",
      "Finished page:  67\n",
      "Finished page:  68\n",
      "Finished page:  69\n",
      "Finished page:  70\n",
      "Finished page:  71\n",
      "Finished page:  72\n",
      "Finished page:  73\n",
      "Finished page:  74\n",
      "Finished page:  75\n",
      "Finished page:  76\n",
      "Finished page:  77\n",
      "Finished page:  78\n",
      "Finished page:  79\n",
      "Finished page:  80\n",
      "Finished page:  81\n",
      "Finished page:  82\n",
      "Finished page:  83\n",
      "Finished page:  84\n",
      "Finished page:  85\n",
      "Finished page:  86\n",
      "Finished page:  87\n",
      "Finished page:  88\n",
      "Finished page:  89\n",
      "Finished page:  90\n",
      "Finished page:  91\n",
      "Finished page:  92\n",
      "Finished page:  93\n",
      "Finished page:  94\n",
      "Finished page:  95\n",
      "Finished page:  96\n",
      "Finished page:  97\n",
      "Finished page:  98\n",
      "Finished page:  99\n"
     ]
    }
   ],
   "source": [
    "offers = []\n",
    "for page in range(1, 100):  #на момент запуска цикла по заданному фильтру находилось 96 страниц.\n",
    "    #Параметры поиска\n",
    "    param = {\n",
    "    \"jsonQuery\":\n",
    "        {\n",
    "            \"region\":{\n",
    "                \"type\":\"terms\",\n",
    "                \"value\":[4998]\n",
    "                },\n",
    "            \"_type\":\"flatsale\",\n",
    "            \"engine_version\":{\n",
    "                \"type\":\"term\",\n",
    "                \"value\":2\n",
    "                },\n",
    "            \"room\":{\n",
    "                \"type\":\"terms\",\n",
    "                #\"value\":[1,2,3,5,4,6,9,7]\n",
    "                \"value\":[3]\n",
    "                },\n",
    "            \"page\":{\n",
    "                \"type\":\"term\",\n",
    "                \"value\":page\n",
    "                }\n",
    "        }\n",
    "    }\n",
    "        \n",
    "  \n",
    "    response = requests.post(URL, json=param, headers=dict_headers)\n",
    "    \n",
    "    #Записываем ответ в data\n",
    "    data = response.json()\n",
    "    offers.extend(data['data']['offersSerialized'])\n",
    "    print('Finished page: ', page)"
   ]
  },
  {
   "cell_type": "code",
   "execution_count": 287,
   "metadata": {},
   "outputs": [],
   "source": [
    "with open(\"data_soch3.json\", \"w\") as f:\n",
    "    json.dump(offers, f)"
   ]
  },
  {
   "cell_type": "code",
   "execution_count": null,
   "metadata": {},
   "outputs": [],
   "source": []
  }
 ],
 "metadata": {
  "kernelspec": {
   "display_name": "Python 3",
   "language": "python",
   "name": "python3"
  },
  "language_info": {
   "codemirror_mode": {
    "name": "ipython",
    "version": 3
   },
   "file_extension": ".py",
   "mimetype": "text/x-python",
   "name": "python",
   "nbconvert_exporter": "python",
   "pygments_lexer": "ipython3",
   "version": "3.8.3"
  }
 },
 "nbformat": 4,
 "nbformat_minor": 2
}
