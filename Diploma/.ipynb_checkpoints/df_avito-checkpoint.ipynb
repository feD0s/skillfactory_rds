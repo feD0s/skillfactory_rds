{
 "cells": [
  {
   "cell_type": "markdown",
   "metadata": {},
   "source": [
    "# Прогнозирование стоимости автомобиля BMW"
   ]
  },
  {
   "cell_type": "markdown",
   "metadata": {},
   "source": [
    "# EDA обучающей выборки с AVITO"
   ]
  },
  {
   "cell_type": "code",
   "execution_count": 147,
   "metadata": {},
   "outputs": [],
   "source": [
    "# Загрузка библиотек\n",
    "\n",
    "import pandas as pd # импортируем необходимые библиотеки\n",
    "import numpy as np\n",
    "import re"
   ]
  },
  {
   "cell_type": "markdown",
   "metadata": {},
   "source": [
    "# EDA тренировочной выборки ( с авито)"
   ]
  },
  {
   "cell_type": "code",
   "execution_count": 148,
   "metadata": {},
   "outputs": [
    {
     "data": {
      "text/html": [
       "<div>\n",
       "<style scoped>\n",
       "    .dataframe tbody tr th:only-of-type {\n",
       "        vertical-align: middle;\n",
       "    }\n",
       "\n",
       "    .dataframe tbody tr th {\n",
       "        vertical-align: top;\n",
       "    }\n",
       "\n",
       "    .dataframe thead th {\n",
       "        text-align: right;\n",
       "    }\n",
       "</style>\n",
       "<table border=\"1\" class=\"dataframe\">\n",
       "  <thead>\n",
       "    <tr style=\"text-align: right;\">\n",
       "      <th></th>\n",
       "      <th>Марка</th>\n",
       "      <th>Модель</th>\n",
       "      <th>Поколение</th>\n",
       "      <th>Модификация</th>\n",
       "      <th>Год выпуска</th>\n",
       "      <th>Пробег</th>\n",
       "      <th>Состояние</th>\n",
       "      <th>Владельцев по ПТС</th>\n",
       "      <th>Тип кузова</th>\n",
       "      <th>Количество дверей</th>\n",
       "      <th>Тип двигателя</th>\n",
       "      <th>Коробка передач</th>\n",
       "      <th>Привод</th>\n",
       "      <th>Руль</th>\n",
       "      <th>Цвет</th>\n",
       "      <th>Комплектация</th>\n",
       "      <th>Price</th>\n",
       "      <th>Describe</th>\n",
       "    </tr>\n",
       "  </thead>\n",
       "  <tbody>\n",
       "    <tr>\n",
       "      <td>0</td>\n",
       "      <td>BMW</td>\n",
       "      <td>5 серия</td>\n",
       "      <td>G30/G31 (2016—н. в.)</td>\n",
       "      <td>530i 2.0 xDrive Steptronic (249 л.с.)</td>\n",
       "      <td>2018.0</td>\n",
       "      <td>45357 км</td>\n",
       "      <td>не битый</td>\n",
       "      <td>1</td>\n",
       "      <td>седан</td>\n",
       "      <td>4.0</td>\n",
       "      <td>бензин</td>\n",
       "      <td>автомат</td>\n",
       "      <td>полный</td>\n",
       "      <td>левый</td>\n",
       "      <td>чёрный</td>\n",
       "      <td>NaN</td>\n",
       "      <td>2747000.0</td>\n",
       "      <td>[&lt;div class=\"item-description\"&gt; &lt;div class=\"it...</td>\n",
       "    </tr>\n",
       "    <tr>\n",
       "      <td>1</td>\n",
       "      <td>BMW</td>\n",
       "      <td>5 серия</td>\n",
       "      <td>F10/F11 (2009—2013)</td>\n",
       "      <td>530d 3.0 xDrive AT (258 л.с.)</td>\n",
       "      <td>2011.0</td>\n",
       "      <td>172467 км</td>\n",
       "      <td>не битый</td>\n",
       "      <td>2</td>\n",
       "      <td>седан</td>\n",
       "      <td>4.0</td>\n",
       "      <td>дизель</td>\n",
       "      <td>автомат</td>\n",
       "      <td>полный</td>\n",
       "      <td>левый</td>\n",
       "      <td>чёрный</td>\n",
       "      <td>NaN</td>\n",
       "      <td>1310000.0</td>\n",
       "      <td>[&lt;div class=\"item-description\"&gt; &lt;div class=\"it...</td>\n",
       "    </tr>\n",
       "    <tr>\n",
       "      <td>2</td>\n",
       "      <td>BMW</td>\n",
       "      <td>1 серия</td>\n",
       "      <td>F20/F21 (2011—2015)</td>\n",
       "      <td>116i 1.6 AT (136 л.с.)</td>\n",
       "      <td>2012.0</td>\n",
       "      <td>193000 км</td>\n",
       "      <td>не битый</td>\n",
       "      <td>4+</td>\n",
       "      <td>хетчбэк</td>\n",
       "      <td>5.0</td>\n",
       "      <td>бензин</td>\n",
       "      <td>автомат</td>\n",
       "      <td>задний</td>\n",
       "      <td>левый</td>\n",
       "      <td>белый</td>\n",
       "      <td>Базовая</td>\n",
       "      <td>520000.0</td>\n",
       "      <td>[&lt;div class=\"item-description\"&gt; &lt;div class=\"it...</td>\n",
       "    </tr>\n",
       "    <tr>\n",
       "      <td>3</td>\n",
       "      <td>BMW</td>\n",
       "      <td>X5</td>\n",
       "      <td>E70 рестайлинг (2010—2013)</td>\n",
       "      <td>30d 3.0 AT (245 л.с.)</td>\n",
       "      <td>2012.0</td>\n",
       "      <td>104153 км</td>\n",
       "      <td>не битый</td>\n",
       "      <td>1</td>\n",
       "      <td>внедорожник</td>\n",
       "      <td>5.0</td>\n",
       "      <td>дизель</td>\n",
       "      <td>автомат</td>\n",
       "      <td>полный</td>\n",
       "      <td>левый</td>\n",
       "      <td>серый</td>\n",
       "      <td>NaN</td>\n",
       "      <td>1759000.0</td>\n",
       "      <td>[&lt;div class=\"item-description\"&gt; &lt;div class=\"it...</td>\n",
       "    </tr>\n",
       "    <tr>\n",
       "      <td>4</td>\n",
       "      <td>BMW</td>\n",
       "      <td>X6</td>\n",
       "      <td>F16 (2014—н. в.)</td>\n",
       "      <td>35i 3.0 AT (306 л.с.)</td>\n",
       "      <td>2016.0</td>\n",
       "      <td>42100 км</td>\n",
       "      <td>не битый</td>\n",
       "      <td>2</td>\n",
       "      <td>внедорожник</td>\n",
       "      <td>5.0</td>\n",
       "      <td>бензин</td>\n",
       "      <td>автомат</td>\n",
       "      <td>полный</td>\n",
       "      <td>левый</td>\n",
       "      <td>белый</td>\n",
       "      <td>Базовая</td>\n",
       "      <td>2749900.0</td>\n",
       "      <td>[&lt;div class=\"item-description\"&gt; &lt;div class=\"it...</td>\n",
       "    </tr>\n",
       "  </tbody>\n",
       "</table>\n",
       "</div>"
      ],
      "text/plain": [
       "  Марка   Модель                   Поколение  \\\n",
       "0   BMW  5 серия        G30/G31 (2016—н. в.)   \n",
       "1   BMW  5 серия         F10/F11 (2009—2013)   \n",
       "2   BMW  1 серия         F20/F21 (2011—2015)   \n",
       "3   BMW       X5  E70 рестайлинг (2010—2013)   \n",
       "4   BMW       X6            F16 (2014—н. в.)   \n",
       "\n",
       "                             Модификация  Год выпуска     Пробег Состояние  \\\n",
       "0  530i 2.0 xDrive Steptronic (249 л.с.)       2018.0   45357 км  не битый   \n",
       "1          530d 3.0 xDrive AT (258 л.с.)       2011.0  172467 км  не битый   \n",
       "2                 116i 1.6 AT (136 л.с.)       2012.0  193000 км  не битый   \n",
       "3                  30d 3.0 AT (245 л.с.)       2012.0  104153 км  не битый   \n",
       "4                  35i 3.0 AT (306 л.с.)       2016.0   42100 км  не битый   \n",
       "\n",
       "  Владельцев по ПТС   Тип кузова  Количество дверей Тип двигателя  \\\n",
       "0                 1        седан                4.0        бензин   \n",
       "1                 2        седан                4.0        дизель   \n",
       "2                4+      хетчбэк                5.0        бензин   \n",
       "3                 1  внедорожник                5.0        дизель   \n",
       "4                 2  внедорожник                5.0        бензин   \n",
       "\n",
       "  Коробка передач  Привод   Руль    Цвет Комплектация      Price  \\\n",
       "0         автомат  полный  левый  чёрный          NaN  2747000.0   \n",
       "1         автомат  полный  левый  чёрный          NaN  1310000.0   \n",
       "2         автомат  задний  левый   белый      Базовая   520000.0   \n",
       "3         автомат  полный  левый   серый          NaN  1759000.0   \n",
       "4         автомат  полный  левый   белый      Базовая  2749900.0   \n",
       "\n",
       "                                            Describe  \n",
       "0  [<div class=\"item-description\"> <div class=\"it...  \n",
       "1  [<div class=\"item-description\"> <div class=\"it...  \n",
       "2  [<div class=\"item-description\"> <div class=\"it...  \n",
       "3  [<div class=\"item-description\"> <div class=\"it...  \n",
       "4  [<div class=\"item-description\"> <div class=\"it...  "
      ]
     },
     "execution_count": 148,
     "metadata": {},
     "output_type": "execute_result"
    }
   ],
   "source": [
    "# Загрузка датасета и удаление пустых строк.\n",
    "\n",
    "df = pd.read_csv('data_avito.csv')\n",
    "df.dropna(subset = ['Марка'], inplace=True)  \n",
    "df.dropna(subset = ['Price'], inplace=True)\n",
    "df = df.reset_index(drop=True)      # индексирование по порядку\n",
    "df.head()"
   ]
  },
  {
   "cell_type": "markdown",
   "metadata": {},
   "source": [
    "Проверим сначала общую информацию по датасету"
   ]
  },
  {
   "cell_type": "code",
   "execution_count": 149,
   "metadata": {},
   "outputs": [
    {
     "name": "stdout",
     "output_type": "stream",
     "text": [
      "<class 'pandas.core.frame.DataFrame'>\n",
      "RangeIndex: 4015 entries, 0 to 4014\n",
      "Data columns (total 18 columns):\n",
      "Марка                4015 non-null object\n",
      "Модель               4015 non-null object\n",
      "Поколение            4015 non-null object\n",
      "Модификация          4015 non-null object\n",
      "Год выпуска          4015 non-null float64\n",
      "Пробег               4015 non-null object\n",
      "Состояние            4015 non-null object\n",
      "Владельцев по ПТС    4015 non-null object\n",
      "Тип кузова           4015 non-null object\n",
      "Количество дверей    4015 non-null float64\n",
      "Тип двигателя        4015 non-null object\n",
      "Коробка передач      4015 non-null object\n",
      "Привод               4015 non-null object\n",
      "Руль                 4011 non-null object\n",
      "Цвет                 4015 non-null object\n",
      "Комплектация         3278 non-null object\n",
      "Price                4015 non-null float64\n",
      "Describe             4015 non-null object\n",
      "dtypes: float64(3), object(15)\n",
      "memory usage: 564.7+ KB\n"
     ]
    }
   ],
   "source": [
    "df.info()"
   ]
  },
  {
   "cell_type": "code",
   "execution_count": 150,
   "metadata": {},
   "outputs": [
    {
     "data": {
      "text/plain": [
       "Марка                  0\n",
       "Модель                 0\n",
       "Поколение              0\n",
       "Модификация            0\n",
       "Год выпуска            0\n",
       "Пробег                 0\n",
       "Состояние              0\n",
       "Владельцев по ПТС      0\n",
       "Тип кузова             0\n",
       "Количество дверей      0\n",
       "Тип двигателя          0\n",
       "Коробка передач        0\n",
       "Привод                 0\n",
       "Руль                   4\n",
       "Цвет                   0\n",
       "Комплектация         737\n",
       "Price                  0\n",
       "Describe               0\n",
       "dtype: int64"
      ]
     },
     "execution_count": 150,
     "metadata": {},
     "output_type": "execute_result"
    }
   ],
   "source": [
    "# Пустых значений не много, содержатся в столбцах Руль и Комплектация\n",
    "\n",
    "df.isnull().sum()"
   ]
  },
  {
   "cell_type": "code",
   "execution_count": 151,
   "metadata": {},
   "outputs": [],
   "source": [
    "# Переименуем столбцы по аналогии с тестовым датасетом\n",
    "\n",
    "df.columns = ([\n",
    "    'brand',\n",
    "    'model',\n",
    "    'modelDate',\n",
    "    'name',\n",
    "    'productionDate',\n",
    "    'mileage',\n",
    "    'state',\n",
    "    'owners',\n",
    "    'bodyType',\n",
    "    'numberOfDoors',\n",
    "    'fuelType',\n",
    "    'vehicleTransmission',\n",
    "    'drive',\n",
    "    'wheel',\n",
    "    'color',\n",
    "    'equipment',\n",
    "    'price',\n",
    "    'describe'\n",
    "])"
   ]
  },
  {
   "cell_type": "markdown",
   "metadata": {},
   "source": [
    "Рассмотрим последовательно каждый признак."
   ]
  },
  {
   "cell_type": "markdown",
   "metadata": {},
   "source": [
    "# Brand"
   ]
  },
  {
   "cell_type": "code",
   "execution_count": 152,
   "metadata": {
    "scrolled": true
   },
   "outputs": [
    {
     "data": {
      "text/plain": [
       "BMW    4015\n",
       "Name: brand, dtype: int64"
      ]
     },
     "execution_count": 152,
     "metadata": {},
     "output_type": "execute_result"
    }
   ],
   "source": [
    "df.brand.value_counts()"
   ]
  },
  {
   "cell_type": "code",
   "execution_count": 153,
   "metadata": {},
   "outputs": [],
   "source": [
    "df = df.drop('brand', axis = 1)"
   ]
  },
  {
   "cell_type": "markdown",
   "metadata": {},
   "source": [
    "# Model"
   ]
  },
  {
   "cell_type": "code",
   "execution_count": 154,
   "metadata": {
    "scrolled": false
   },
   "outputs": [
    {
     "data": {
      "text/plain": [
       "5 серия                  841\n",
       "X5                       640\n",
       "3 серия                  618\n",
       "X6                       409\n",
       "7 серия                  387\n",
       "X3                       278\n",
       "1 серия                  184\n",
       "X1                       156\n",
       "X4                        65\n",
       "6 серия                   65\n",
       "M5                        64\n",
       "X6 M                      43\n",
       "5 серия GT                34\n",
       "X5 M                      32\n",
       "4 серия                   21\n",
       "3 серия GT                19\n",
       "8 серия                   19\n",
       "X7                        17\n",
       "M3                        16\n",
       "M6                        15\n",
       "4 серия Gran Coupe        14\n",
       "2 серия                   14\n",
       "6 серия GT                 9\n",
       "M4                         9\n",
       "i3                         8\n",
       "Z4                         7\n",
       "6 серия Gran Coupe         7\n",
       "X2                         7\n",
       "2 серия Grand Tourer       4\n",
       "Z3                         3\n",
       "i8                         3\n",
       "321                        2\n",
       "326                        2\n",
       "X4 M                       1\n",
       "M2                         1\n",
       "2 серия Active Tourer      1\n",
       "Name: model, dtype: int64"
      ]
     },
     "execution_count": 154,
     "metadata": {},
     "output_type": "execute_result"
    }
   ],
   "source": [
    "df.model.value_counts()"
   ]
  },
  {
   "cell_type": "markdown",
   "metadata": {},
   "source": [
    "Переименуем значения, приведем в соответствие тому значениям, к которым пришли в ноутбуке на kaggle."
   ]
  },
  {
   "cell_type": "code",
   "execution_count": 155,
   "metadata": {},
   "outputs": [],
   "source": [
    "dic_model = {\n",
    "    '1 серия': '1ER',\n",
    "    '2 серия': '2ER',\n",
    "    '2 серия Active Tourer': '2ER',\n",
    "    '2 серия Grand Tourer': '2ER',\n",
    "    '3 серия': '3ER',\n",
    "    '3 серия GT': '3ER',\n",
    "    '321': '3ER',\n",
    "    '326': '3ER',\n",
    "    '4 серия': '4ER',\n",
    "    '4 серия Gran Coupe': '4ER',\n",
    "    '5 серия': '5ER',\n",
    "    '5 серия GT': '5ER',\n",
    "    '6 серия': '6ER',\n",
    "    '6 серия GT': '6ER',\n",
    "    '6 серия Gran Coupe': '6ER',\n",
    "    '7 серия': '7ER',\n",
    "    '8 серия': '8ER',\n",
    "    'M2': 'delete',\n",
    "    'M3': 'delete',\n",
    "    'M4': 'delete',\n",
    "    'M5': 'M5',\n",
    "    'M6': 'delete',\n",
    "    'X1': 'X1',\n",
    "    'X2': 'X2',\n",
    "    'X3': 'X3',\n",
    "    'X4': 'X4',\n",
    "    'X4 M': 'X4',\n",
    "    'X5': 'X5',\n",
    "    'X5 M': 'X5',\n",
    "    'X6': 'X6',\n",
    "    'X6 M': 'X6',\n",
    "    'X7': 'X7',\n",
    "    'Z3': 'delete',\n",
    "    'Z4': 'Z4',\n",
    "    'i3': 'delete',\n",
    "    'i8': 'I8',\n",
    "    }\n",
    "df['model'] = df['model'].map(dic_model)"
   ]
  },
  {
   "cell_type": "markdown",
   "metadata": {},
   "source": [
    "удалим лишние модели"
   ]
  },
  {
   "cell_type": "code",
   "execution_count": 156,
   "metadata": {},
   "outputs": [],
   "source": [
    "df = df[df.model != 'delete']"
   ]
  },
  {
   "cell_type": "markdown",
   "metadata": {},
   "source": [
    "# modelDate"
   ]
  },
  {
   "cell_type": "markdown",
   "metadata": {},
   "source": [
    "В дате модели оставим только первую дату выпуска модели по аналогии с тестовой выборкой"
   ]
  },
  {
   "cell_type": "code",
   "execution_count": 157,
   "metadata": {
    "scrolled": true
   },
   "outputs": [],
   "source": [
    "df['modelDate'] = df['modelDate'].str.split('(').apply(lambda s: s[1].split('—')[0])"
   ]
  },
  {
   "cell_type": "code",
   "execution_count": 158,
   "metadata": {
    "scrolled": true
   },
   "outputs": [
    {
     "data": {
      "text/plain": [
       "2013    398\n",
       "2007    329\n",
       "2014    316\n",
       "2009    285\n",
       "2011    272\n",
       "2008    255\n",
       "2006    234\n",
       "2010    227\n",
       "2015    227\n",
       "2012    214\n",
       "2016    178\n",
       "2005    134\n",
       "2003    118\n",
       "1998    100\n",
       "2017     99\n",
       "1995     95\n",
       "2018     93\n",
       "2002     78\n",
       "2001     77\n",
       "2000     42\n",
       "1999     33\n",
       "2004     31\n",
       "1990     27\n",
       "1988     26\n",
       "1994     24\n",
       "2019     21\n",
       "1982      5\n",
       "1989      5\n",
       "1975      4\n",
       "1977      4\n",
       "1981      4\n",
       "1976      3\n",
       "1936      2\n",
       "1937      2\n",
       "1986      1\n",
       "Name: modelDate, dtype: int64"
      ]
     },
     "execution_count": 158,
     "metadata": {},
     "output_type": "execute_result"
    }
   ],
   "source": [
    "df.modelDate.value_counts()"
   ]
  },
  {
   "cell_type": "code",
   "execution_count": 159,
   "metadata": {},
   "outputs": [],
   "source": [
    "df['modelDate'] = df['modelDate'].astype('int32')"
   ]
  },
  {
   "cell_type": "code",
   "execution_count": 160,
   "metadata": {},
   "outputs": [],
   "source": [
    "df['modelDate'] = 2020 - df['modelDate']"
   ]
  },
  {
   "cell_type": "code",
   "execution_count": 161,
   "metadata": {},
   "outputs": [],
   "source": [
    "df.rename(columns = {'modelDate':'modelAge'}, inplace = True) "
   ]
  },
  {
   "cell_type": "markdown",
   "metadata": {},
   "source": [
    "# Name"
   ]
  },
  {
   "cell_type": "code",
   "execution_count": 162,
   "metadata": {},
   "outputs": [
    {
     "data": {
      "text/plain": [
       "'530i 2.0 xDrive Steptronic (249 л.с.)'"
      ]
     },
     "execution_count": 162,
     "metadata": {},
     "output_type": "execute_result"
    }
   ],
   "source": [
    "df.name[0]"
   ]
  },
  {
   "cell_type": "markdown",
   "metadata": {},
   "source": [
    "Выделим из данного столбца три: name, engineDisplacement и enginePower"
   ]
  },
  {
   "cell_type": "code",
   "execution_count": 163,
   "metadata": {},
   "outputs": [],
   "source": [
    "def split_eng(s):\n",
    "#   функция выделения из столбца name объема двигателя \n",
    "    pattern = re.compile('\\d\\W\\d')\n",
    "    if pattern.match(s) != None:\n",
    "        s = s.split(' ')\n",
    "        return s[0]\n",
    "    elif len(s.split(' ')) > 2:\n",
    "        s = s.split(' ')\n",
    "        return s[1]\n",
    "    else: return s \n",
    "    \n",
    "def split_name(s):\n",
    "#   функция выделения из столбца name модификации \n",
    "    pattern = re.compile('\\d\\W\\d')\n",
    "    if pattern.match(s) != None:\n",
    "        return None\n",
    "    else: \n",
    "        s = s.split(' ')\n",
    "        return s[0] "
   ]
  },
  {
   "cell_type": "code",
   "execution_count": 164,
   "metadata": {},
   "outputs": [],
   "source": [
    "df['engineDisplacement'] = df['name'].apply(split_eng) \n",
    "df['enginePower'] = df['name'].str.split('(').apply(lambda s: float(s[1].split(' ')[0]))\n",
    "df['name'] = df['name'].apply(split_name)"
   ]
  },
  {
   "cell_type": "markdown",
   "metadata": {},
   "source": [
    "## engineDisplacement"
   ]
  },
  {
   "cell_type": "code",
   "execution_count": 165,
   "metadata": {
    "scrolled": true
   },
   "outputs": [
    {
     "data": {
      "text/plain": [
       "['1.5',\n",
       " '1.6',\n",
       " '1.8',\n",
       " '1.9',\n",
       " '2.0',\n",
       " '2.2',\n",
       " '2.3',\n",
       " '2.5',\n",
       " '2.8',\n",
       " '2.9',\n",
       " '3.0',\n",
       " '3.0d',\n",
       " '3.0i',\n",
       " '3.0sd',\n",
       " '3.0si',\n",
       " '3.2',\n",
       " '3.4',\n",
       " '3.5',\n",
       " '3.6',\n",
       " '4.0',\n",
       " '4.4',\n",
       " '4.4i',\n",
       " '4.6is',\n",
       " '4.8',\n",
       " '4.8i',\n",
       " '4.8is',\n",
       " '4.9',\n",
       " '5.0',\n",
       " '5.4',\n",
       " '6.0',\n",
       " '6.6',\n",
       " 'ED']"
      ]
     },
     "execution_count": 165,
     "metadata": {},
     "output_type": "execute_result"
    }
   ],
   "source": [
    "sorted(df.engineDisplacement.unique())"
   ]
  },
  {
   "cell_type": "code",
   "execution_count": 166,
   "metadata": {},
   "outputs": [],
   "source": [
    "dic_engineDisplacement = {\n",
    "    '1.5': 1.5,\n",
    "    '1.6': 1.6,\n",
    "    '1.8': 1.8,\n",
    "    '1.9': 1.9,\n",
    "    '2.0': 2.0,\n",
    "    '2.2': 2.2,\n",
    "    '2.3': 2.2,\n",
    "    '2.5': 2.5,\n",
    "    '2.8': 2.8,\n",
    "    '2.9': 2.9,\n",
    "    '3.0': 3.0,\n",
    "    '3.0d': 3.0,\n",
    "    '3.0i': 3.0,\n",
    "    '3.0sd': 3.0,\n",
    "    '3.0si': 3.0,\n",
    "    '3.2': 3.2,\n",
    "    '3.4': 3.4,\n",
    "    '3.5': 3.5,\n",
    "    '3.6': 3.6,\n",
    "    '4.0': 4.0,\n",
    "    '4.4': 4.4,\n",
    "    '4.4i': 4.4,\n",
    "    '4.6is': 4.6,\n",
    "    '4.8': 4.8,\n",
    "    '4.8i': 4.8,\n",
    "    '4.8is': 4.8,\n",
    "    '4.9': 4.9,\n",
    "    '5.0': 5.0,\n",
    "    '5.4': 5.4,\n",
    "    '6.0': 6.0,\n",
    "    '6.6': 6.6,\n",
    "    'ED': 0,\n",
    "}\n",
    "df['engineDisplacement'] = df['engineDisplacement'].map(dic_engineDisplacement)"
   ]
  },
  {
   "cell_type": "code",
   "execution_count": 167,
   "metadata": {},
   "outputs": [],
   "source": [
    "df = df[df['engineDisplacement'] != 0]"
   ]
  },
  {
   "cell_type": "markdown",
   "metadata": {},
   "source": [
    "## enginePower"
   ]
  },
  {
   "cell_type": "code",
   "execution_count": 168,
   "metadata": {},
   "outputs": [
    {
     "data": {
      "text/plain": [
       "184.0    480\n",
       "249.0    344\n",
       "306.0    324\n",
       "218.0    294\n",
       "190.0    271\n",
       "        ... \n",
       "347.0      1\n",
       "544.0      1\n",
       "510.0      1\n",
       "269.0      1\n",
       "188.0      1\n",
       "Name: enginePower, Length: 68, dtype: int64"
      ]
     },
     "execution_count": 168,
     "metadata": {},
     "output_type": "execute_result"
    }
   ],
   "source": [
    "df.enginePower.value_counts()"
   ]
  },
  {
   "cell_type": "code",
   "execution_count": 169,
   "metadata": {},
   "outputs": [],
   "source": [
    "df['enginePower'] = df['enginePower'].astype('int32')"
   ]
  },
  {
   "cell_type": "markdown",
   "metadata": {},
   "source": [
    "## Name"
   ]
  },
  {
   "cell_type": "code",
   "execution_count": 170,
   "metadata": {},
   "outputs": [],
   "source": [
    "df['name'] = df['name'].astype('str')"
   ]
  },
  {
   "cell_type": "code",
   "execution_count": 171,
   "metadata": {
    "scrolled": false
   },
   "outputs": [
    {
     "data": {
      "text/plain": [
       "None     342\n",
       "30d      336\n",
       "35i      230\n",
       "320i     204\n",
       "20d      182\n",
       "        ... \n",
       "535d       1\n",
       "340i       1\n",
       "525xd      1\n",
       "520        1\n",
       "335xi      1\n",
       "Name: name, Length: 105, dtype: int64"
      ]
     },
     "execution_count": 171,
     "metadata": {},
     "output_type": "execute_result"
    }
   ],
   "source": [
    "df.name.value_counts()"
   ]
  },
  {
   "cell_type": "markdown",
   "metadata": {},
   "source": [
    "# ProductionDate"
   ]
  },
  {
   "cell_type": "code",
   "execution_count": 172,
   "metadata": {},
   "outputs": [],
   "source": [
    "df['productionDate']=(2020-df['productionDate'])"
   ]
  },
  {
   "cell_type": "code",
   "execution_count": 173,
   "metadata": {
    "scrolled": true
   },
   "outputs": [
    {
     "data": {
      "text/plain": [
       "7.0     367\n",
       "8.0     323\n",
       "9.0     305\n",
       "12.0    279\n",
       "3.0     270\n",
       "1.0     252\n",
       "6.0     249\n",
       "4.0     241\n",
       "5.0     217\n",
       "2.0     211\n",
       "10.0    206\n",
       "13.0    174\n",
       "11.0    158\n",
       "16.0     95\n",
       "15.0     86\n",
       "22.0     84\n",
       "14.0     82\n",
       "17.0     66\n",
       "18.0     62\n",
       "21.0     46\n",
       "19.0     44\n",
       "23.0     29\n",
       "20.0     22\n",
       "24.0     15\n",
       "27.0     11\n",
       "26.0      9\n",
       "28.0      9\n",
       "30.0      9\n",
       "29.0      6\n",
       "31.0      6\n",
       "25.0      5\n",
       "42.0      4\n",
       "32.0      4\n",
       "37.0      4\n",
       "33.0      3\n",
       "82.0      2\n",
       "72.0      2\n",
       "39.0      2\n",
       "40.0      1\n",
       "34.0      1\n",
       "36.0      1\n",
       "Name: productionDate, dtype: int64"
      ]
     },
     "execution_count": 173,
     "metadata": {},
     "output_type": "execute_result"
    }
   ],
   "source": [
    "df['productionDate'].value_counts()"
   ]
  },
  {
   "cell_type": "code",
   "execution_count": 174,
   "metadata": {},
   "outputs": [],
   "source": [
    "df['productionDate'] = df['productionDate'].astype('int32')"
   ]
  },
  {
   "cell_type": "code",
   "execution_count": 175,
   "metadata": {},
   "outputs": [],
   "source": [
    "df.rename(columns = {'productionDate':'age'}, inplace = True) "
   ]
  },
  {
   "cell_type": "markdown",
   "metadata": {},
   "source": [
    "# Mileage"
   ]
  },
  {
   "cell_type": "code",
   "execution_count": 176,
   "metadata": {},
   "outputs": [
    {
     "data": {
      "text/plain": [
       "0        45357 км\n",
       "1       172467 км\n",
       "2       193000 км\n",
       "3       104153 км\n",
       "4        42100 км\n",
       "          ...    \n",
       "4010     35000 км\n",
       "4011      3844 км\n",
       "4012     78000 км\n",
       "4013    105600 км\n",
       "4014       120 км\n",
       "Name: mileage, Length: 3962, dtype: object"
      ]
     },
     "execution_count": 176,
     "metadata": {},
     "output_type": "execute_result"
    }
   ],
   "source": [
    "df.mileage"
   ]
  },
  {
   "cell_type": "code",
   "execution_count": 177,
   "metadata": {},
   "outputs": [],
   "source": [
    "df['mileage'] = df['mileage'].str.split('\\xa0').apply(lambda s: int(s[0]))   # уберем км из пробега"
   ]
  },
  {
   "cell_type": "code",
   "execution_count": 178,
   "metadata": {},
   "outputs": [],
   "source": [
    "df['mileage'] = df['mileage'].astype('int32')"
   ]
  },
  {
   "cell_type": "markdown",
   "metadata": {},
   "source": [
    "# Owners"
   ]
  },
  {
   "cell_type": "code",
   "execution_count": 179,
   "metadata": {},
   "outputs": [],
   "source": [
    "# ПРиведем значения стобца  owners в соответствии со значениями на тестовой выборке\n",
    "\n",
    "dic_owners = {'1': 1, '2': 2, '3': 3, '4+': 3}\n",
    "df.owners = df.owners.map(dic_owners)"
   ]
  },
  {
   "cell_type": "markdown",
   "metadata": {},
   "source": [
    "# bodyType"
   ]
  },
  {
   "cell_type": "code",
   "execution_count": 180,
   "metadata": {
    "scrolled": true
   },
   "outputs": [
    {
     "data": {
      "text/plain": [
       "седан          1747\n",
       "внедорожник    1648\n",
       "хетчбэк         262\n",
       "купе            212\n",
       "кабриолет        46\n",
       "универсал        42\n",
       "минивэн           5\n",
       "Name: bodyType, dtype: int64"
      ]
     },
     "execution_count": 180,
     "metadata": {},
     "output_type": "execute_result"
    }
   ],
   "source": [
    "df.bodyType.value_counts()"
   ]
  },
  {
   "cell_type": "code",
   "execution_count": 181,
   "metadata": {},
   "outputs": [],
   "source": [
    "dic_bodyType = {\n",
    "    'седан': 'sedan',\n",
    "    'внедорожник': 'SUV',\n",
    "    'хетчбэк': 'hatchback',\n",
    "    'купе': 'coupe',\n",
    "    'универсал': 'wagon',\n",
    "    'кабриолет': 'cabriolet',\n",
    "    'минивэн': 'van'\n",
    "}\n",
    "df['bodyType'] = df['bodyType'].map(dic_bodyType)"
   ]
  },
  {
   "cell_type": "markdown",
   "metadata": {},
   "source": [
    "# numberOfDoors"
   ]
  },
  {
   "cell_type": "code",
   "execution_count": 182,
   "metadata": {},
   "outputs": [
    {
     "data": {
      "text/plain": [
       "5.0    1924\n",
       "4.0    1741\n",
       "2.0     264\n",
       "3.0      33\n",
       "Name: numberOfDoors, dtype: int64"
      ]
     },
     "execution_count": 182,
     "metadata": {},
     "output_type": "execute_result"
    }
   ],
   "source": [
    "df.numberOfDoors.value_counts()"
   ]
  },
  {
   "cell_type": "code",
   "execution_count": 183,
   "metadata": {},
   "outputs": [],
   "source": [
    "df['numberOfDoors'] = df['numberOfDoors'].astype('int32')\n",
    "df['numberOfDoors'] = df['numberOfDoors'].astype('str')"
   ]
  },
  {
   "cell_type": "markdown",
   "metadata": {},
   "source": [
    "# fuelType"
   ]
  },
  {
   "cell_type": "code",
   "execution_count": 184,
   "metadata": {
    "scrolled": true
   },
   "outputs": [
    {
     "data": {
      "text/plain": [
       "бензин     2577\n",
       "дизель     1380\n",
       "гибрид        3\n",
       "электро       2\n",
       "Name: fuelType, dtype: int64"
      ]
     },
     "execution_count": 184,
     "metadata": {},
     "output_type": "execute_result"
    }
   ],
   "source": [
    "df.fuelType.value_counts()"
   ]
  },
  {
   "cell_type": "code",
   "execution_count": 185,
   "metadata": {},
   "outputs": [],
   "source": [
    "dic_fuelType = {\n",
    "    'дизель': 'diesel',\n",
    "    'бензин': 'petrol',\n",
    "    'гибрид': 'hybrid',\n",
    "    'электро': 'electro'\n",
    "}\n",
    "df['fuelType'] = df['fuelType'].map(dic_fuelType)"
   ]
  },
  {
   "cell_type": "markdown",
   "metadata": {},
   "source": [
    "# vehicleTransmission"
   ]
  },
  {
   "cell_type": "code",
   "execution_count": 186,
   "metadata": {
    "scrolled": true
   },
   "outputs": [
    {
     "data": {
      "text/plain": [
       "автомат     3725\n",
       "механика     195\n",
       "робот         42\n",
       "Name: vehicleTransmission, dtype: int64"
      ]
     },
     "execution_count": 186,
     "metadata": {},
     "output_type": "execute_result"
    }
   ],
   "source": [
    "df.vehicleTransmission.value_counts()"
   ]
  },
  {
   "cell_type": "code",
   "execution_count": 187,
   "metadata": {},
   "outputs": [],
   "source": [
    "dic_vehicleTransmission = {\n",
    "    'автомат': 'AT',\n",
    "    'механика': 'MT',\n",
    "    'робот': 'AM'\n",
    "}\n",
    "df['vehicleTransmission'] = df['vehicleTransmission'].map(dic_vehicleTransmission)"
   ]
  },
  {
   "cell_type": "markdown",
   "metadata": {},
   "source": [
    "# drive"
   ]
  },
  {
   "cell_type": "code",
   "execution_count": 188,
   "metadata": {},
   "outputs": [
    {
     "data": {
      "text/plain": [
       "полный      2363\n",
       "задний      1579\n",
       "передний      20\n",
       "Name: drive, dtype: int64"
      ]
     },
     "execution_count": 188,
     "metadata": {},
     "output_type": "execute_result"
    }
   ],
   "source": [
    "df.drive.value_counts()"
   ]
  },
  {
   "cell_type": "code",
   "execution_count": 189,
   "metadata": {},
   "outputs": [],
   "source": [
    "dic_drive = {\n",
    "    'полный': '4wd',\n",
    "    'задний': 'rwd',\n",
    "    'передний': 'fwd'\n",
    "}\n",
    "df['drive'] = df['drive'].map(dic_drive)"
   ]
  },
  {
   "cell_type": "markdown",
   "metadata": {},
   "source": [
    "# wheel"
   ]
  },
  {
   "cell_type": "code",
   "execution_count": 190,
   "metadata": {
    "scrolled": false
   },
   "outputs": [
    {
     "data": {
      "text/plain": [
       "левый     3951\n",
       "правый       7\n",
       "Name: wheel, dtype: int64"
      ]
     },
     "execution_count": 190,
     "metadata": {},
     "output_type": "execute_result"
    }
   ],
   "source": [
    "df.wheel.value_counts()"
   ]
  },
  {
   "cell_type": "code",
   "execution_count": 191,
   "metadata": {},
   "outputs": [],
   "source": [
    "df['wheel'] = df['wheel'].fillna('левый')"
   ]
  },
  {
   "cell_type": "code",
   "execution_count": 192,
   "metadata": {},
   "outputs": [],
   "source": [
    "df = df[df.wheel=='левый']"
   ]
  },
  {
   "cell_type": "code",
   "execution_count": 193,
   "metadata": {},
   "outputs": [],
   "source": [
    "df = df.drop('wheel', axis = 1)"
   ]
  },
  {
   "cell_type": "markdown",
   "metadata": {},
   "source": [
    "# color"
   ]
  },
  {
   "cell_type": "code",
   "execution_count": 194,
   "metadata": {
    "scrolled": true
   },
   "outputs": [
    {
     "data": {
      "text/plain": [
       "чёрный        1659\n",
       "белый          605\n",
       "серый          516\n",
       "синий          495\n",
       "серебряный     181\n",
       "коричневый     145\n",
       "красный        139\n",
       "бежевый         77\n",
       "зелёный         64\n",
       "голубой         48\n",
       "пурпурный        9\n",
       "фиолетовый       7\n",
       "оранжевый        5\n",
       "золотой          4\n",
       "жёлтый           1\n",
       "Name: color, dtype: int64"
      ]
     },
     "execution_count": 194,
     "metadata": {},
     "output_type": "execute_result"
    }
   ],
   "source": [
    "df.color.value_counts()"
   ]
  },
  {
   "cell_type": "code",
   "execution_count": 195,
   "metadata": {},
   "outputs": [],
   "source": [
    "dic_color = {\n",
    "    'чёрный': 'black',\n",
    "    'белый': 'white',\n",
    "    'серый': 'grey',\n",
    "    'синий': 'dark_blue',\n",
    "    'серебряный': 'silver', \n",
    "    'красный': 'red',\n",
    "    'коричневый': 'brown',\n",
    "    'зелёный': 'green',\n",
    "    'бежевый': 'biege',\n",
    "    'голубой': 'blue',\n",
    "    'пурпурный': 'purple',\n",
    "    'оранжевый': 'orange',\n",
    "    'зоротой': 'golden',\n",
    "    'фиолетовый': 'violet',\n",
    "    'жёлтый': 'yellow', \n",
    "}\n",
    "df['color'] = df['color'].map(dic_color)"
   ]
  },
  {
   "cell_type": "markdown",
   "metadata": {},
   "source": [
    "# equipment"
   ]
  },
  {
   "cell_type": "code",
   "execution_count": 196,
   "metadata": {
    "scrolled": true
   },
   "outputs": [
    {
     "data": {
      "text/plain": [
       "Базовая                      1986\n",
       "Base                          191\n",
       "M Sport                       186\n",
       "Luxury                        161\n",
       "Business                      145\n",
       "SE                            104\n",
       "Exclusive                      48\n",
       "M                              41\n",
       "Sport Line                     33\n",
       "Lifestyle                      32\n",
       "Urban                          30\n",
       "Pure Excellence                25\n",
       "M Sport Локальная сборка       23\n",
       "Luxury Line                    23\n",
       "M Sport Experience             22\n",
       "Sport                          22\n",
       "Prestige                       19\n",
       "Luxury Локальная сборка        14\n",
       "Advantage                      11\n",
       "M Sport Pure                   10\n",
       "xLine                          10\n",
       "M Sport Pro                     9\n",
       "Xline                           9\n",
       "SE Локальная сборка             9\n",
       "Touring                         7\n",
       "Executive                       7\n",
       "Edition Exclusive               6\n",
       "Business Локальная сборка       6\n",
       "Pure Experience                 4\n",
       "Business SKD                    4\n",
       "M Sport Extravagance            4\n",
       "Special edition                 3\n",
       "M Sport SE                      3\n",
       "Pure Extravagance               2\n",
       "Luxury Navi                     2\n",
       "Специальная серия               2\n",
       "M Sport X                       2\n",
       "Model M Sport                   2\n",
       "M Sport Plus                    2\n",
       "Shadow Line                     2\n",
       "M Sport Model                   1\n",
       "Model Advantage                 1\n",
       "M Special                       1\n",
       "Name: equipment, dtype: int64"
      ]
     },
     "execution_count": 196,
     "metadata": {},
     "output_type": "execute_result"
    }
   ],
   "source": [
    "df.equipment.value_counts()"
   ]
  },
  {
   "cell_type": "markdown",
   "metadata": {},
   "source": [
    "# price"
   ]
  },
  {
   "cell_type": "code",
   "execution_count": 197,
   "metadata": {
    "scrolled": true
   },
   "outputs": [
    {
     "data": {
      "text/plain": [
       "1400000.0    68\n",
       "1100000.0    59\n",
       "800000.0     59\n",
       "950000.0     57\n",
       "550000.0     54\n",
       "             ..\n",
       "1645000.0     1\n",
       "915000.0      1\n",
       "4085000.0     1\n",
       "2463000.0     1\n",
       "3916000.0     1\n",
       "Name: price, Length: 829, dtype: int64"
      ]
     },
     "execution_count": 197,
     "metadata": {},
     "output_type": "execute_result"
    }
   ],
   "source": [
    "df.price.value_counts()"
   ]
  },
  {
   "cell_type": "code",
   "execution_count": 198,
   "metadata": {},
   "outputs": [],
   "source": [
    "df['price'] = df['price'].astype('int32')"
   ]
  },
  {
   "cell_type": "markdown",
   "metadata": {},
   "source": [
    "# describe"
   ]
  },
  {
   "cell_type": "code",
   "execution_count": 199,
   "metadata": {
    "scrolled": true
   },
   "outputs": [
    {
     "data": {
      "text/plain": [
       "'[<div class=\"item-description\"> <div class=\"item-description-text\" itemprop=\"description\">\\n<p>BMW X5, e53<br/>2004 года, мотор бешенный 4.8is (360сил), комплектация жирная: память, шторки, стеклопакеты!!открывания ворот, панорама, чёрный потолок, ксенон, спорт сиденья, регулировка заднего ряда и тд. <br/>Машина в нормальном состояние, много что сделано, птс оригинал. <br/>Без запретов и ограничений!<br/>Пробег реальный (на этих щитках при скрутке перестают работать температурные стрелки)<br/>есть окрасы, без криминала <br/>20 тапки на низком профиле, 315 ширина (диски и резина новые! Меньше месяца!)<br/>Под карбоновой пленкой дерево!</p><p>Пройдёмся по плюсам:<br/>Привода передние только поставил. <br/>Кпп было в ремонте, сейчас чувствует себя прекрасно.  (6 передач) <br/>Вместе с приводами поставил новые свечи, поменял масло двигатель, раздатка, мосты , антифриз, фильтра <br/>Свежий прямоточный выхлоп без катализаторов, 5.5 курит в сторонке (видео по запросу вышлю). <br/>Так же свежие тормоза. <br/>Очень резвый разгон и торможение, даже на таких колёсах<br/>Кондей заправлен<br/>Хорошая музыка с сабом родным и CD чейнджером в багажнике <br/>Ну и по классическим минусам БМВ: <br/>Есть масложор, от замены до замены (7000 км), примерно 800 грамм. Смотря как давишь на педаль. Такой расход в норме для этих двигателей. <br/>Стояла пневмоподвеска, теперь на пружинах (при желании за адекватные деньги можно вернуть его на пневму, будет ещё и при поворотах подкачивать)<br/>На стеклопакетах есть трещины (фото могу выслать) <br/>Есть сколы, рыжики небольшие<br/>Сейчас на заднем приводе, кардан снят (рулежка и расход, разгон)<br/>В заднем кардане надо менять крестовины <br/>Плохо работает панорама <br/> <br/>Цена: на 3 колёсах (точно таких же как на фото) и докатке 420.000 </p><p>На колёсах прям как на фото 460.000 (новые диски и новая резина, меньше месяца) </p><p>Самая низкая цена по рф на 4.8 + торг! <br/>Машина не идеальная, просьба учитывать))</p><p>Номера в подарок!</p> </div> </div>]'"
      ]
     },
     "execution_count": 199,
     "metadata": {},
     "output_type": "execute_result"
    }
   ],
   "source": [
    "df['describe'][5]"
   ]
  },
  {
   "cell_type": "code",
   "execution_count": 200,
   "metadata": {},
   "outputs": [
    {
     "data": {
      "text/plain": [
       "1    3942\n",
       "0      13\n",
       "Name: technicalPassport, dtype: int64"
      ]
     },
     "execution_count": 200,
     "metadata": {},
     "output_type": "execute_result"
    }
   ],
   "source": [
    "# Создадим и заполним поле ПТС на основании данных в описании к объявлению \n",
    "    \n",
    "st_ptc = ['оригинальный птс' , 'оригинал птс', 'дубликат']\n",
    "\n",
    "def code_ptc (ptc):\n",
    "# \"вытаскивание\" информации о ПТС из описания\n",
    "\n",
    "    d = ptc.lower()\n",
    "    if (st_ptc[0] in d) or (st_ptc[1] in d):\n",
    "        return 1\n",
    "    elif st_ptc[2] in d:\n",
    "        return 0\n",
    "    else:\n",
    "        return 1\n",
    "\n",
    "df['technicalPassport'] = df['describe'].apply(code_ptc)\n",
    "df = df.drop('describe', axis = 1)\n",
    "df['technicalPassport'].value_counts()"
   ]
  },
  {
   "cell_type": "code",
   "execution_count": 201,
   "metadata": {
    "scrolled": false
   },
   "outputs": [
    {
     "name": "stdout",
     "output_type": "stream",
     "text": [
      "<class 'pandas.core.frame.DataFrame'>\n",
      "Int64Index: 3955 entries, 0 to 4014\n",
      "Data columns (total 18 columns):\n",
      "model                  3955 non-null object\n",
      "modelAge               3955 non-null int32\n",
      "name                   3955 non-null object\n",
      "age                    3955 non-null int32\n",
      "mileage                3955 non-null int32\n",
      "state                  3955 non-null object\n",
      "owners                 3955 non-null int64\n",
      "bodyType               3955 non-null object\n",
      "numberOfDoors          3955 non-null object\n",
      "fuelType               3955 non-null object\n",
      "vehicleTransmission    3955 non-null object\n",
      "drive                  3955 non-null object\n",
      "color                  3951 non-null object\n",
      "equipment              3224 non-null object\n",
      "price                  3955 non-null int32\n",
      "engineDisplacement     3955 non-null float64\n",
      "enginePower            3955 non-null int32\n",
      "technicalPassport      3955 non-null int64\n",
      "dtypes: float64(1), int32(5), int64(2), object(10)\n",
      "memory usage: 669.8+ KB\n"
     ]
    }
   ],
   "source": [
    "df.info()"
   ]
  },
  {
   "cell_type": "code",
   "execution_count": 202,
   "metadata": {},
   "outputs": [],
   "source": [
    "# Сохраним в файл.\n",
    "\n",
    "df.to_csv('avito.csv', index=False)"
   ]
  },
  {
   "cell_type": "code",
   "execution_count": null,
   "metadata": {},
   "outputs": [],
   "source": []
  }
 ],
 "metadata": {
  "kernelspec": {
   "display_name": "Python 3",
   "language": "python",
   "name": "python3"
  },
  "language_info": {
   "codemirror_mode": {
    "name": "ipython",
    "version": 3
   },
   "file_extension": ".py",
   "mimetype": "text/x-python",
   "name": "python",
   "nbconvert_exporter": "python",
   "pygments_lexer": "ipython3",
   "version": "3.8.3"
  }
 },
 "nbformat": 4,
 "nbformat_minor": 2
}
