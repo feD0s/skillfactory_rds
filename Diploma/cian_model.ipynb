{
 "cells": [
  {
   "cell_type": "markdown",
   "metadata": {
    "id": "MhpgcEeVYjzN"
   },
   "source": [
    "# Дипломный проект\n",
    "\n",
    "\n",
    "## Прогнозирование стоимости квартир на побережье Черного моря\n",
    "\n",
    "Описание:\n",
    "Нам поставлена задача создать модель, которая будет предсказывать стоимость квартир на Черноморском побережье.\n",
    "Если наша модель работает хорошо, то мы сможем быстро выявлять выгодные предложения (когда желаемая цена продавца ниже предсказанной рыночной цены)."
   ]
  },
  {
   "cell_type": "markdown",
   "metadata": {
    "id": "eN5X7uyDLk2o"
   },
   "source": [
    "Датасет был получен при помощи парсинга сайта cian.ru и обработан на этапе EDA."
   ]
  },
  {
   "cell_type": "markdown",
   "metadata": {
    "id": "7KMMG8LlYjzP"
   },
   "source": [
    "В данном ноутбуке мы сделаем следующее:\n",
    "* Обработаем и отнормируем признаки\n",
    "* Построим \"наивную\"/baseline модель, предсказывающую цену по общей площади и городу (с ней будем сравнивать другие модели)\n",
    "* Построим модель на основи логистической регресии\n",
    "* Обучим модель на основе случайного леса\n",
    "* Сделаем  модель на основе градиентного бустинга с помощью CatBoost\n",
    "* Применим кросс-валидацию для градиетного бустинга\n",
    "* На основе предыдущих шагов выберем оптимальную модель"
   ]
  },
  {
   "cell_type": "markdown",
   "metadata": {
    "id": "NIC5X3KpXQWi"
   },
   "source": [
    "# Загрузка библиотек"
   ]
  },
  {
   "cell_type": "code",
   "execution_count": 1,
   "metadata": {
    "colab": {
     "base_uri": "https://localhost:8080/"
    },
    "executionInfo": {
     "elapsed": 133154,
     "status": "ok",
     "timestamp": 1610626288358,
     "user": {
      "displayName": "Фёдор Азаров",
      "photoUrl": "",
      "userId": "06471763163872178747"
     },
     "user_tz": -180
    },
    "id": "hOXsApbqYjzP",
    "outputId": "90633649-e9ff-4bcd-fc7e-c6df452ce610"
   },
   "outputs": [],
   "source": [
    "#!pip install catboost"
   ]
  },
  {
   "cell_type": "code",
   "execution_count": 2,
   "metadata": {
    "id": "hnJrRRwEYjzX"
   },
   "outputs": [],
   "source": [
    "import random\n",
    "import numpy as np \n",
    "import pandas as pd \n",
    "import sys\n",
    "\n",
    "from sklearn.ensemble import RandomForestRegressor\n",
    "from sklearn.linear_model import LogisticRegression\n",
    "from catboost import CatBoostRegressor\n",
    "from sklearn.model_selection import train_test_split\n",
    "from sklearn.preprocessing import MinMaxScaler\n",
    "from sklearn.model_selection import KFold\n",
    "from tqdm.notebook import tqdm\n",
    "\n",
    "# plt\n",
    "import matplotlib.pyplot as plt\n",
    "#увеличим дефолтный размер графиков\n",
    "from pylab import rcParams\n",
    "rcParams['figure.figsize'] = 10, 5\n",
    "#графики в svg выглядят более четкими\n",
    "%config InlineBackend.figure_format = 'svg' \n",
    "%matplotlib inline"
   ]
  },
  {
   "cell_type": "code",
   "execution_count": 3,
   "metadata": {
    "colab": {
     "base_uri": "https://localhost:8080/"
    },
    "executionInfo": {
     "elapsed": 137879,
     "status": "ok",
     "timestamp": 1610626293103,
     "user": {
      "displayName": "Фёдор Азаров",
      "photoUrl": "",
      "userId": "06471763163872178747"
     },
     "user_tz": -180
    },
    "id": "Gli8g1o_Yjza",
    "outputId": "f3854687-96b8-4aed-94d5-babd709cea6a"
   },
   "outputs": [
    {
     "name": "stdout",
     "output_type": "stream",
     "text": [
      "Python       : 3.8.3 (default, Jul  2 2020, 16:21:59) \n",
      "Numpy        : 1.18.5\n"
     ]
    }
   ],
   "source": [
    "print('Python       :', sys.version.split('\\n')[0])\n",
    "print('Numpy        :', np.__version__)"
   ]
  },
  {
   "cell_type": "code",
   "execution_count": 4,
   "metadata": {
    "id": "fC0vrv7qYjzj"
   },
   "outputs": [],
   "source": [
    "!pip freeze > requirements.txt"
   ]
  },
  {
   "cell_type": "markdown",
   "metadata": {},
   "source": [
    "# Настройки"
   ]
  },
  {
   "cell_type": "code",
   "execution_count": 5,
   "metadata": {},
   "outputs": [],
   "source": [
    "# зафиксируем RANDOM_SEED, чтобы эксперименты были воспроизводимы\n",
    "RANDOM_SEED = 42\n",
    "\n",
    "TEST_SIZE = 0.2"
   ]
  },
  {
   "cell_type": "markdown",
   "metadata": {},
   "source": [
    "# Вспомогательные функции"
   ]
  },
  {
   "cell_type": "code",
   "execution_count": 6,
   "metadata": {},
   "outputs": [],
   "source": [
    "# напишем функцию для расчета mape\n",
    "def mape(y_true, y_pred):\n",
    "    return np.mean(np.abs((y_pred-y_true)/y_true))"
   ]
  },
  {
   "cell_type": "markdown",
   "metadata": {},
   "source": [
    "# Загружаем данные"
   ]
  },
  {
   "cell_type": "code",
   "execution_count": 7,
   "metadata": {},
   "outputs": [],
   "source": [
    "df = pd.read_csv('cian_eda.csv')"
   ]
  },
  {
   "cell_type": "code",
   "execution_count": 8,
   "metadata": {},
   "outputs": [
    {
     "data": {
      "text/html": [
       "<div>\n",
       "<style scoped>\n",
       "    .dataframe tbody tr th:only-of-type {\n",
       "        vertical-align: middle;\n",
       "    }\n",
       "\n",
       "    .dataframe tbody tr th {\n",
       "        vertical-align: top;\n",
       "    }\n",
       "\n",
       "    .dataframe thead th {\n",
       "        text-align: right;\n",
       "    }\n",
       "</style>\n",
       "<table border=\"1\" class=\"dataframe\">\n",
       "  <thead>\n",
       "    <tr style=\"text-align: right;\">\n",
       "      <th></th>\n",
       "      <th>newBuilding</th>\n",
       "      <th>flatType</th>\n",
       "      <th>floorNumber</th>\n",
       "      <th>fromDeveloper</th>\n",
       "      <th>isApartments</th>\n",
       "      <th>isAuction</th>\n",
       "      <th>kitchenArea</th>\n",
       "      <th>livingArea</th>\n",
       "      <th>roomsCount</th>\n",
       "      <th>totalArea</th>\n",
       "      <th>...</th>\n",
       "      <th>cargoLiftsCount</th>\n",
       "      <th>materialType</th>\n",
       "      <th>hasBalcony</th>\n",
       "      <th>isBasement</th>\n",
       "      <th>isFirstFloor</th>\n",
       "      <th>isLastFloor</th>\n",
       "      <th>cityPopulation</th>\n",
       "      <th>cityArea</th>\n",
       "      <th>populationDensity</th>\n",
       "      <th>areaPerRoom</th>\n",
       "    </tr>\n",
       "  </thead>\n",
       "  <tbody>\n",
       "    <tr>\n",
       "      <th>0</th>\n",
       "      <td>0</td>\n",
       "      <td>rooms</td>\n",
       "      <td>2</td>\n",
       "      <td>False</td>\n",
       "      <td>False</td>\n",
       "      <td>True</td>\n",
       "      <td>10.411423</td>\n",
       "      <td>26.000000</td>\n",
       "      <td>1</td>\n",
       "      <td>54.40</td>\n",
       "      <td>...</td>\n",
       "      <td>0</td>\n",
       "      <td>monolithBrick</td>\n",
       "      <td>1</td>\n",
       "      <td>0</td>\n",
       "      <td>0</td>\n",
       "      <td>0</td>\n",
       "      <td>79056</td>\n",
       "      <td>18.2</td>\n",
       "      <td>4343.736264</td>\n",
       "      <td>54.40</td>\n",
       "    </tr>\n",
       "    <tr>\n",
       "      <th>1</th>\n",
       "      <td>1</td>\n",
       "      <td>rooms</td>\n",
       "      <td>7</td>\n",
       "      <td>True</td>\n",
       "      <td>False</td>\n",
       "      <td>True</td>\n",
       "      <td>8.091819</td>\n",
       "      <td>24.330994</td>\n",
       "      <td>1</td>\n",
       "      <td>42.28</td>\n",
       "      <td>...</td>\n",
       "      <td>0</td>\n",
       "      <td>monolith</td>\n",
       "      <td>0</td>\n",
       "      <td>0</td>\n",
       "      <td>0</td>\n",
       "      <td>0</td>\n",
       "      <td>79056</td>\n",
       "      <td>18.2</td>\n",
       "      <td>4343.736264</td>\n",
       "      <td>42.28</td>\n",
       "    </tr>\n",
       "    <tr>\n",
       "      <th>2</th>\n",
       "      <td>1</td>\n",
       "      <td>rooms</td>\n",
       "      <td>6</td>\n",
       "      <td>True</td>\n",
       "      <td>True</td>\n",
       "      <td>True</td>\n",
       "      <td>10.124343</td>\n",
       "      <td>30.442517</td>\n",
       "      <td>1</td>\n",
       "      <td>52.90</td>\n",
       "      <td>...</td>\n",
       "      <td>0</td>\n",
       "      <td>monolith</td>\n",
       "      <td>0</td>\n",
       "      <td>0</td>\n",
       "      <td>0</td>\n",
       "      <td>0</td>\n",
       "      <td>79056</td>\n",
       "      <td>18.2</td>\n",
       "      <td>4343.736264</td>\n",
       "      <td>52.90</td>\n",
       "    </tr>\n",
       "    <tr>\n",
       "      <th>3</th>\n",
       "      <td>0</td>\n",
       "      <td>rooms</td>\n",
       "      <td>2</td>\n",
       "      <td>False</td>\n",
       "      <td>True</td>\n",
       "      <td>True</td>\n",
       "      <td>10.000000</td>\n",
       "      <td>13.811350</td>\n",
       "      <td>1</td>\n",
       "      <td>24.00</td>\n",
       "      <td>...</td>\n",
       "      <td>0</td>\n",
       "      <td>monolith</td>\n",
       "      <td>1</td>\n",
       "      <td>0</td>\n",
       "      <td>0</td>\n",
       "      <td>0</td>\n",
       "      <td>79056</td>\n",
       "      <td>18.2</td>\n",
       "      <td>4343.736264</td>\n",
       "      <td>24.00</td>\n",
       "    </tr>\n",
       "    <tr>\n",
       "      <th>4</th>\n",
       "      <td>0</td>\n",
       "      <td>rooms</td>\n",
       "      <td>3</td>\n",
       "      <td>False</td>\n",
       "      <td>False</td>\n",
       "      <td>True</td>\n",
       "      <td>8.612390</td>\n",
       "      <td>25.896281</td>\n",
       "      <td>1</td>\n",
       "      <td>45.00</td>\n",
       "      <td>...</td>\n",
       "      <td>1</td>\n",
       "      <td>monolith</td>\n",
       "      <td>1</td>\n",
       "      <td>0</td>\n",
       "      <td>0</td>\n",
       "      <td>0</td>\n",
       "      <td>79056</td>\n",
       "      <td>18.2</td>\n",
       "      <td>4343.736264</td>\n",
       "      <td>45.00</td>\n",
       "    </tr>\n",
       "  </tbody>\n",
       "</table>\n",
       "<p>5 rows × 26 columns</p>\n",
       "</div>"
      ],
      "text/plain": [
       "   newBuilding flatType  floorNumber  fromDeveloper  isApartments  isAuction  \\\n",
       "0            0    rooms            2          False         False       True   \n",
       "1            1    rooms            7           True         False       True   \n",
       "2            1    rooms            6           True          True       True   \n",
       "3            0    rooms            2          False          True       True   \n",
       "4            0    rooms            3          False         False       True   \n",
       "\n",
       "   kitchenArea  livingArea  roomsCount  totalArea  ...  cargoLiftsCount  \\\n",
       "0    10.411423   26.000000           1      54.40  ...                0   \n",
       "1     8.091819   24.330994           1      42.28  ...                0   \n",
       "2    10.124343   30.442517           1      52.90  ...                0   \n",
       "3    10.000000   13.811350           1      24.00  ...                0   \n",
       "4     8.612390   25.896281           1      45.00  ...                1   \n",
       "\n",
       "    materialType hasBalcony  isBasement  isFirstFloor  isLastFloor  \\\n",
       "0  monolithBrick          1           0             0            0   \n",
       "1       monolith          0           0             0            0   \n",
       "2       monolith          0           0             0            0   \n",
       "3       monolith          1           0             0            0   \n",
       "4       monolith          1           0             0            0   \n",
       "\n",
       "   cityPopulation cityArea  populationDensity  areaPerRoom  \n",
       "0           79056     18.2        4343.736264        54.40  \n",
       "1           79056     18.2        4343.736264        42.28  \n",
       "2           79056     18.2        4343.736264        52.90  \n",
       "3           79056     18.2        4343.736264        24.00  \n",
       "4           79056     18.2        4343.736264        45.00  \n",
       "\n",
       "[5 rows x 26 columns]"
      ]
     },
     "execution_count": 8,
     "metadata": {},
     "output_type": "execute_result"
    }
   ],
   "source": [
    "df.head()"
   ]
  },
  {
   "cell_type": "markdown",
   "metadata": {},
   "source": [
    "# Предобработка данных"
   ]
  },
  {
   "cell_type": "code",
   "execution_count": 9,
   "metadata": {},
   "outputs": [],
   "source": [
    "# Составим список бинарных категориальных признаков:\n",
    "bin_features = [\n",
    "    'newBuilding',\n",
    "    'fromDeveloper',\n",
    "    'isApartments',\n",
    "    'isAuction',\n",
    "    'isComplete',\n",
    "    'hasBalcony',\n",
    "    'isBasement',\n",
    "    'isFirstFloor',\n",
    "    'isLastFloor',\n",
    "    'passengerLiftsCount',\n",
    "    'cargoLiftsCount',\n",
    "]\n",
    "\n",
    "# Составим список категориальных признаков:\n",
    "cat_features = [\n",
    "    'flatType',\n",
    "    'region',\n",
    "    'city',\n",
    "    'materialType',\n",
    "]\n",
    " \n",
    "# Составим список числовых признаков:\n",
    "num_features = [\n",
    "    'floorNumber',\n",
    "    'kitchenArea',\n",
    "    'livingArea',\n",
    "    'roomsCount',\n",
    "    'totalArea',\n",
    "    'floorsCount',\n",
    "    'cityPopulation',\n",
    "    'cityArea',\n",
    "    'populationDensity',\n",
    "    'areaPerRoom',\n",
    "]"
   ]
  },
  {
   "cell_type": "code",
   "execution_count": 10,
   "metadata": {},
   "outputs": [],
   "source": [
    "def preproc_data(df_input):\n",
    "    '''includes several functions to pre-process the predictor data.'''\n",
    "    \n",
    "    df_output = df.copy()\n",
    " \n",
    "    # Нормализация данных и логорифмирование\n",
    "    scaler = MinMaxScaler()\n",
    "    for column in num_features:\n",
    "        df_output[column] = scaler.fit_transform(df_output[[column]])[:,0]\n",
    "        # логорифмирование ухудшило результат\n",
    "        # df_output[column] = np.log(df_output[column])\n",
    "        \n",
    "    # ################### Categorical Features ############################################################## \n",
    "      \n",
    "    # # Label Encoding\n",
    "    for column in bin_features:\n",
    "        df_output[column] = df_output[column].astype('category').cat.codes\n",
    "        \n",
    "    # # One-Hot Encoding:\n",
    "    df_output = pd.get_dummies(df_output, columns=cat_features, dummy_na=False)\n",
    "    \n",
    "    return df_output"
   ]
  },
  {
   "cell_type": "code",
   "execution_count": 11,
   "metadata": {},
   "outputs": [
    {
     "data": {
      "text/html": [
       "<div>\n",
       "<style scoped>\n",
       "    .dataframe tbody tr th:only-of-type {\n",
       "        vertical-align: middle;\n",
       "    }\n",
       "\n",
       "    .dataframe tbody tr th {\n",
       "        vertical-align: top;\n",
       "    }\n",
       "\n",
       "    .dataframe thead th {\n",
       "        text-align: right;\n",
       "    }\n",
       "</style>\n",
       "<table border=\"1\" class=\"dataframe\">\n",
       "  <thead>\n",
       "    <tr style=\"text-align: right;\">\n",
       "      <th></th>\n",
       "      <th>newBuilding</th>\n",
       "      <th>floorNumber</th>\n",
       "      <th>fromDeveloper</th>\n",
       "      <th>isApartments</th>\n",
       "      <th>isAuction</th>\n",
       "      <th>kitchenArea</th>\n",
       "      <th>livingArea</th>\n",
       "      <th>roomsCount</th>\n",
       "      <th>totalArea</th>\n",
       "      <th>price</th>\n",
       "      <th>...</th>\n",
       "      <th>materialType_foamConcreteBlock</th>\n",
       "      <th>materialType_gasSilicateBlock</th>\n",
       "      <th>materialType_monolith</th>\n",
       "      <th>materialType_monolithBrick</th>\n",
       "      <th>materialType_old</th>\n",
       "      <th>materialType_panel</th>\n",
       "      <th>materialType_stalin</th>\n",
       "      <th>materialType_unknown</th>\n",
       "      <th>materialType_wireframe</th>\n",
       "      <th>materialType_wood</th>\n",
       "    </tr>\n",
       "  </thead>\n",
       "  <tbody>\n",
       "    <tr>\n",
       "      <th>15013</th>\n",
       "      <td>0</td>\n",
       "      <td>0.000000</td>\n",
       "      <td>0</td>\n",
       "      <td>0</td>\n",
       "      <td>0</td>\n",
       "      <td>0.138250</td>\n",
       "      <td>0.230493</td>\n",
       "      <td>0.0</td>\n",
       "      <td>0.327731</td>\n",
       "      <td>5100000</td>\n",
       "      <td>...</td>\n",
       "      <td>0</td>\n",
       "      <td>0</td>\n",
       "      <td>1</td>\n",
       "      <td>0</td>\n",
       "      <td>0</td>\n",
       "      <td>0</td>\n",
       "      <td>0</td>\n",
       "      <td>0</td>\n",
       "      <td>0</td>\n",
       "      <td>0</td>\n",
       "    </tr>\n",
       "    <tr>\n",
       "      <th>4842</th>\n",
       "      <td>0</td>\n",
       "      <td>0.000000</td>\n",
       "      <td>0</td>\n",
       "      <td>0</td>\n",
       "      <td>0</td>\n",
       "      <td>0.082508</td>\n",
       "      <td>0.144068</td>\n",
       "      <td>0.0</td>\n",
       "      <td>0.184874</td>\n",
       "      <td>2550000</td>\n",
       "      <td>...</td>\n",
       "      <td>0</td>\n",
       "      <td>0</td>\n",
       "      <td>0</td>\n",
       "      <td>0</td>\n",
       "      <td>0</td>\n",
       "      <td>0</td>\n",
       "      <td>0</td>\n",
       "      <td>0</td>\n",
       "      <td>0</td>\n",
       "      <td>0</td>\n",
       "    </tr>\n",
       "    <tr>\n",
       "      <th>27437</th>\n",
       "      <td>0</td>\n",
       "      <td>0.333333</td>\n",
       "      <td>0</td>\n",
       "      <td>0</td>\n",
       "      <td>0</td>\n",
       "      <td>0.115512</td>\n",
       "      <td>0.364407</td>\n",
       "      <td>0.4</td>\n",
       "      <td>0.470588</td>\n",
       "      <td>7100000</td>\n",
       "      <td>...</td>\n",
       "      <td>0</td>\n",
       "      <td>0</td>\n",
       "      <td>0</td>\n",
       "      <td>0</td>\n",
       "      <td>0</td>\n",
       "      <td>1</td>\n",
       "      <td>0</td>\n",
       "      <td>0</td>\n",
       "      <td>0</td>\n",
       "      <td>0</td>\n",
       "    </tr>\n",
       "    <tr>\n",
       "      <th>2350</th>\n",
       "      <td>0</td>\n",
       "      <td>0.000000</td>\n",
       "      <td>0</td>\n",
       "      <td>0</td>\n",
       "      <td>0</td>\n",
       "      <td>0.069307</td>\n",
       "      <td>0.170339</td>\n",
       "      <td>0.0</td>\n",
       "      <td>0.195798</td>\n",
       "      <td>3000000</td>\n",
       "      <td>...</td>\n",
       "      <td>0</td>\n",
       "      <td>0</td>\n",
       "      <td>0</td>\n",
       "      <td>0</td>\n",
       "      <td>0</td>\n",
       "      <td>0</td>\n",
       "      <td>0</td>\n",
       "      <td>0</td>\n",
       "      <td>0</td>\n",
       "      <td>0</td>\n",
       "    </tr>\n",
       "    <tr>\n",
       "      <th>2892</th>\n",
       "      <td>0</td>\n",
       "      <td>0.125000</td>\n",
       "      <td>0</td>\n",
       "      <td>1</td>\n",
       "      <td>0</td>\n",
       "      <td>0.187518</td>\n",
       "      <td>0.306572</td>\n",
       "      <td>0.2</td>\n",
       "      <td>0.458824</td>\n",
       "      <td>5200000</td>\n",
       "      <td>...</td>\n",
       "      <td>0</td>\n",
       "      <td>0</td>\n",
       "      <td>0</td>\n",
       "      <td>0</td>\n",
       "      <td>0</td>\n",
       "      <td>0</td>\n",
       "      <td>0</td>\n",
       "      <td>1</td>\n",
       "      <td>0</td>\n",
       "      <td>0</td>\n",
       "    </tr>\n",
       "    <tr>\n",
       "      <th>2576</th>\n",
       "      <td>1</td>\n",
       "      <td>0.125000</td>\n",
       "      <td>0</td>\n",
       "      <td>0</td>\n",
       "      <td>0</td>\n",
       "      <td>0.148515</td>\n",
       "      <td>0.135593</td>\n",
       "      <td>0.0</td>\n",
       "      <td>0.273109</td>\n",
       "      <td>2928750</td>\n",
       "      <td>...</td>\n",
       "      <td>0</td>\n",
       "      <td>0</td>\n",
       "      <td>1</td>\n",
       "      <td>0</td>\n",
       "      <td>0</td>\n",
       "      <td>0</td>\n",
       "      <td>0</td>\n",
       "      <td>0</td>\n",
       "      <td>0</td>\n",
       "      <td>0</td>\n",
       "    </tr>\n",
       "    <tr>\n",
       "      <th>24241</th>\n",
       "      <td>0</td>\n",
       "      <td>0.000000</td>\n",
       "      <td>0</td>\n",
       "      <td>0</td>\n",
       "      <td>0</td>\n",
       "      <td>0.219472</td>\n",
       "      <td>0.225424</td>\n",
       "      <td>0.0</td>\n",
       "      <td>0.420168</td>\n",
       "      <td>4300000</td>\n",
       "      <td>...</td>\n",
       "      <td>0</td>\n",
       "      <td>0</td>\n",
       "      <td>0</td>\n",
       "      <td>0</td>\n",
       "      <td>0</td>\n",
       "      <td>0</td>\n",
       "      <td>0</td>\n",
       "      <td>1</td>\n",
       "      <td>0</td>\n",
       "      <td>0</td>\n",
       "    </tr>\n",
       "    <tr>\n",
       "      <th>17799</th>\n",
       "      <td>0</td>\n",
       "      <td>0.000000</td>\n",
       "      <td>0</td>\n",
       "      <td>0</td>\n",
       "      <td>0</td>\n",
       "      <td>0.049505</td>\n",
       "      <td>0.135593</td>\n",
       "      <td>0.0</td>\n",
       "      <td>0.117647</td>\n",
       "      <td>3850000</td>\n",
       "      <td>...</td>\n",
       "      <td>0</td>\n",
       "      <td>0</td>\n",
       "      <td>0</td>\n",
       "      <td>0</td>\n",
       "      <td>0</td>\n",
       "      <td>0</td>\n",
       "      <td>0</td>\n",
       "      <td>1</td>\n",
       "      <td>0</td>\n",
       "      <td>0</td>\n",
       "    </tr>\n",
       "    <tr>\n",
       "      <th>24829</th>\n",
       "      <td>0</td>\n",
       "      <td>0.125000</td>\n",
       "      <td>0</td>\n",
       "      <td>0</td>\n",
       "      <td>0</td>\n",
       "      <td>0.082508</td>\n",
       "      <td>0.219492</td>\n",
       "      <td>0.0</td>\n",
       "      <td>0.273950</td>\n",
       "      <td>4100000</td>\n",
       "      <td>...</td>\n",
       "      <td>0</td>\n",
       "      <td>0</td>\n",
       "      <td>0</td>\n",
       "      <td>0</td>\n",
       "      <td>0</td>\n",
       "      <td>0</td>\n",
       "      <td>0</td>\n",
       "      <td>0</td>\n",
       "      <td>0</td>\n",
       "      <td>0</td>\n",
       "    </tr>\n",
       "    <tr>\n",
       "      <th>23817</th>\n",
       "      <td>0</td>\n",
       "      <td>0.000000</td>\n",
       "      <td>0</td>\n",
       "      <td>0</td>\n",
       "      <td>0</td>\n",
       "      <td>0.115512</td>\n",
       "      <td>0.144068</td>\n",
       "      <td>0.0</td>\n",
       "      <td>0.229412</td>\n",
       "      <td>3600000</td>\n",
       "      <td>...</td>\n",
       "      <td>0</td>\n",
       "      <td>0</td>\n",
       "      <td>1</td>\n",
       "      <td>0</td>\n",
       "      <td>0</td>\n",
       "      <td>0</td>\n",
       "      <td>0</td>\n",
       "      <td>0</td>\n",
       "      <td>0</td>\n",
       "      <td>0</td>\n",
       "    </tr>\n",
       "  </tbody>\n",
       "</table>\n",
       "<p>10 rows × 61 columns</p>\n",
       "</div>"
      ],
      "text/plain": [
       "       newBuilding  floorNumber  fromDeveloper  isApartments  isAuction  \\\n",
       "15013            0     0.000000              0             0          0   \n",
       "4842             0     0.000000              0             0          0   \n",
       "27437            0     0.333333              0             0          0   \n",
       "2350             0     0.000000              0             0          0   \n",
       "2892             0     0.125000              0             1          0   \n",
       "2576             1     0.125000              0             0          0   \n",
       "24241            0     0.000000              0             0          0   \n",
       "17799            0     0.000000              0             0          0   \n",
       "24829            0     0.125000              0             0          0   \n",
       "23817            0     0.000000              0             0          0   \n",
       "\n",
       "       kitchenArea  livingArea  roomsCount  totalArea    price  ...  \\\n",
       "15013     0.138250    0.230493         0.0   0.327731  5100000  ...   \n",
       "4842      0.082508    0.144068         0.0   0.184874  2550000  ...   \n",
       "27437     0.115512    0.364407         0.4   0.470588  7100000  ...   \n",
       "2350      0.069307    0.170339         0.0   0.195798  3000000  ...   \n",
       "2892      0.187518    0.306572         0.2   0.458824  5200000  ...   \n",
       "2576      0.148515    0.135593         0.0   0.273109  2928750  ...   \n",
       "24241     0.219472    0.225424         0.0   0.420168  4300000  ...   \n",
       "17799     0.049505    0.135593         0.0   0.117647  3850000  ...   \n",
       "24829     0.082508    0.219492         0.0   0.273950  4100000  ...   \n",
       "23817     0.115512    0.144068         0.0   0.229412  3600000  ...   \n",
       "\n",
       "       materialType_foamConcreteBlock  materialType_gasSilicateBlock  \\\n",
       "15013                               0                              0   \n",
       "4842                                0                              0   \n",
       "27437                               0                              0   \n",
       "2350                                0                              0   \n",
       "2892                                0                              0   \n",
       "2576                                0                              0   \n",
       "24241                               0                              0   \n",
       "17799                               0                              0   \n",
       "24829                               0                              0   \n",
       "23817                               0                              0   \n",
       "\n",
       "       materialType_monolith  materialType_monolithBrick  materialType_old  \\\n",
       "15013                      1                           0                 0   \n",
       "4842                       0                           0                 0   \n",
       "27437                      0                           0                 0   \n",
       "2350                       0                           0                 0   \n",
       "2892                       0                           0                 0   \n",
       "2576                       1                           0                 0   \n",
       "24241                      0                           0                 0   \n",
       "17799                      0                           0                 0   \n",
       "24829                      0                           0                 0   \n",
       "23817                      1                           0                 0   \n",
       "\n",
       "       materialType_panel  materialType_stalin  materialType_unknown  \\\n",
       "15013                   0                    0                     0   \n",
       "4842                    0                    0                     0   \n",
       "27437                   1                    0                     0   \n",
       "2350                    0                    0                     0   \n",
       "2892                    0                    0                     1   \n",
       "2576                    0                    0                     0   \n",
       "24241                   0                    0                     1   \n",
       "17799                   0                    0                     1   \n",
       "24829                   0                    0                     0   \n",
       "23817                   0                    0                     0   \n",
       "\n",
       "       materialType_wireframe  materialType_wood  \n",
       "15013                       0                  0  \n",
       "4842                        0                  0  \n",
       "27437                       0                  0  \n",
       "2350                        0                  0  \n",
       "2892                        0                  0  \n",
       "2576                        0                  0  \n",
       "24241                       0                  0  \n",
       "17799                       0                  0  \n",
       "24829                       0                  0  \n",
       "23817                       0                  0  \n",
       "\n",
       "[10 rows x 61 columns]"
      ]
     },
     "execution_count": 11,
     "metadata": {},
     "output_type": "execute_result"
    }
   ],
   "source": [
    "# Запускаем и проверяем, что получилось\n",
    "df_preproc = preproc_data(df)\n",
    "df_preproc.sample(10)"
   ]
  },
  {
   "cell_type": "code",
   "execution_count": 12,
   "metadata": {
    "scrolled": true
   },
   "outputs": [
    {
     "name": "stdout",
     "output_type": "stream",
     "text": [
      "<class 'pandas.core.frame.DataFrame'>\n",
      "RangeIndex: 31315 entries, 0 to 31314\n",
      "Data columns (total 61 columns):\n",
      " #   Column                          Non-Null Count  Dtype  \n",
      "---  ------                          --------------  -----  \n",
      " 0   newBuilding                     31315 non-null  int8   \n",
      " 1   floorNumber                     31315 non-null  float64\n",
      " 2   fromDeveloper                   31315 non-null  int8   \n",
      " 3   isApartments                    31315 non-null  int8   \n",
      " 4   isAuction                       31315 non-null  int8   \n",
      " 5   kitchenArea                     31315 non-null  float64\n",
      " 6   livingArea                      31315 non-null  float64\n",
      " 7   roomsCount                      31315 non-null  float64\n",
      " 8   totalArea                       31315 non-null  float64\n",
      " 9   price                           31315 non-null  int64  \n",
      " 10  floorsCount                     31315 non-null  float64\n",
      " 11  isComplete                      31315 non-null  int8   \n",
      " 12  passengerLiftsCount             31315 non-null  int8   \n",
      " 13  cargoLiftsCount                 31315 non-null  int8   \n",
      " 14  hasBalcony                      31315 non-null  int8   \n",
      " 15  isBasement                      31315 non-null  int8   \n",
      " 16  isFirstFloor                    31315 non-null  int8   \n",
      " 17  isLastFloor                     31315 non-null  int8   \n",
      " 18  cityPopulation                  31315 non-null  float64\n",
      " 19  cityArea                        31315 non-null  float64\n",
      " 20  populationDensity               31315 non-null  float64\n",
      " 21  areaPerRoom                     31315 non-null  float64\n",
      " 22  flatType_openPlan               31315 non-null  uint8  \n",
      " 23  flatType_rooms                  31315 non-null  uint8  \n",
      " 24  flatType_studio                 31315 non-null  uint8  \n",
      " 25  region_crimea                   31315 non-null  uint8  \n",
      " 26  region_krasnodar                31315 non-null  uint8  \n",
      " 27  region_sevastopol               31315 non-null  uint8  \n",
      " 28  city_alushta                    31315 non-null  uint8  \n",
      " 29  city_anapa                      31315 non-null  uint8  \n",
      " 30  city_balaklavskiy               31315 non-null  uint8  \n",
      " 31  city_evpatoriya                 31315 non-null  uint8  \n",
      " 32  city_feodosiya                  31315 non-null  uint8  \n",
      " 33  city_gagarinskiy                31315 non-null  uint8  \n",
      " 34  city_gelendzhik                 31315 non-null  uint8  \n",
      " 35  city_kerch                      31315 non-null  uint8  \n",
      " 36  city_leninskiy                  31315 non-null  uint8  \n",
      " 37  city_nakhimovskiy               31315 non-null  uint8  \n",
      " 38  city_novorossiysk               31315 non-null  uint8  \n",
      " 39  city_saki                       31315 non-null  uint8  \n",
      " 40  city_sakskiy                    31315 non-null  uint8  \n",
      " 41  city_simferopol                 31315 non-null  uint8  \n",
      " 42  city_simferopolskiy             31315 non-null  uint8  \n",
      " 43  city_sochi                      31315 non-null  uint8  \n",
      " 44  city_sudak                      31315 non-null  uint8  \n",
      " 45  city_tuapse                     31315 non-null  uint8  \n",
      " 46  city_tuapsinskiy                31315 non-null  uint8  \n",
      " 47  city_yalta                      31315 non-null  uint8  \n",
      " 48  materialType_aerocreteBlock     31315 non-null  uint8  \n",
      " 49  materialType_block              31315 non-null  uint8  \n",
      " 50  materialType_brick              31315 non-null  uint8  \n",
      " 51  materialType_foamConcreteBlock  31315 non-null  uint8  \n",
      " 52  materialType_gasSilicateBlock   31315 non-null  uint8  \n",
      " 53  materialType_monolith           31315 non-null  uint8  \n",
      " 54  materialType_monolithBrick      31315 non-null  uint8  \n",
      " 55  materialType_old                31315 non-null  uint8  \n",
      " 56  materialType_panel              31315 non-null  uint8  \n",
      " 57  materialType_stalin             31315 non-null  uint8  \n",
      " 58  materialType_unknown            31315 non-null  uint8  \n",
      " 59  materialType_wireframe          31315 non-null  uint8  \n",
      " 60  materialType_wood               31315 non-null  uint8  \n",
      "dtypes: float64(10), int64(1), int8(11), uint8(39)\n",
      "memory usage: 4.1 MB\n"
     ]
    }
   ],
   "source": [
    "df_preproc.info()"
   ]
  },
  {
   "cell_type": "markdown",
   "metadata": {},
   "source": [
    "## Split Data"
   ]
  },
  {
   "cell_type": "code",
   "execution_count": 13,
   "metadata": {},
   "outputs": [],
   "source": [
    "y = df_preproc.price.values\n",
    "X = df_preproc.drop(['price'], axis=1)"
   ]
  },
  {
   "cell_type": "code",
   "execution_count": 14,
   "metadata": {},
   "outputs": [],
   "source": [
    "X_train, X_test, y_train, y_test = train_test_split(X, y, test_size=TEST_SIZE, shuffle=True, random_state=RANDOM_SEED)"
   ]
  },
  {
   "cell_type": "markdown",
   "metadata": {},
   "source": [
    "# Обучение модели"
   ]
  },
  {
   "cell_type": "markdown",
   "metadata": {
    "id": "yrkD_S06Yjz0"
   },
   "source": [
    "## Model 1: Создадим \"наивную\" модель \n",
    "Эта модель будет предсказывать среднюю стоимость квартиры по общей площади и городу. \n",
    "C ней будем сравнивать другие модели.\n",
    "\n"
   ]
  },
  {
   "cell_type": "code",
   "execution_count": 15,
   "metadata": {
    "colab": {
     "base_uri": "https://localhost:8080/"
    },
    "executionInfo": {
     "elapsed": 167464,
     "status": "ok",
     "timestamp": 1610626322750,
     "user": {
      "displayName": "Фёдор Азаров",
      "photoUrl": "",
      "userId": "06471763163872178747"
     },
     "user_tz": -180
    },
    "id": "cqQzeXQJYjz3",
    "outputId": "8ca4c6ec-cf14-4e6e-b360-3747b951773a",
    "scrolled": true
   },
   "outputs": [
    {
     "name": "stdout",
     "output_type": "stream",
     "text": [
      "Точность наивной модели по метрике MAPE: 22.29%\n"
     ]
    }
   ],
   "source": [
    "# split данных для наивной модели\n",
    "data_train, data_test = train_test_split(df, test_size=TEST_SIZE, shuffle=True, random_state=RANDOM_SEED)\n",
    "\n",
    "# Наивная модель\n",
    "predicts = []\n",
    "for index, row in pd.DataFrame(data_test[['totalArea', 'city']]).iterrows():\n",
    "    query = f\"totalArea == '{row[0]}' and city == '{row[1]}'\"\n",
    "    predicts.append(data_train.query(query)['price'].median())\n",
    "\n",
    "# заполним не найденные совпадения\n",
    "predicts = pd.DataFrame(predicts)\n",
    "predicts = predicts.fillna(predicts.median())\n",
    "\n",
    "# округлим\n",
    "predicts = (predicts // 1000) * 1000\n",
    "\n",
    "#оцениваем точность\n",
    "print(f\"Точность наивной модели по метрике MAPE: {(mape(data_test['price'], predicts.values[:, 0]))*100:0.2f}%\")"
   ]
  },
  {
   "cell_type": "markdown",
   "metadata": {},
   "source": [
    "## Model 2: LogisticRegression"
   ]
  },
  {
   "cell_type": "code",
   "execution_count": 16,
   "metadata": {},
   "outputs": [],
   "source": [
    "# model = LogisticRegression(solver='saga', max_iter=200, n_jobs=-1)\n",
    "# # Обучаем модель на тестовом наборе данных\n",
    "# model.fit(X_train, y_train)"
   ]
  },
  {
   "cell_type": "code",
   "execution_count": 17,
   "metadata": {
    "scrolled": false
   },
   "outputs": [],
   "source": [
    "# test_predict_LR = model.predict(X_test)\n",
    "# print(f\"TEST mape: {(mape(y_test, test_predict_LR))*100:0.2f}%\")"
   ]
  },
  {
   "cell_type": "markdown",
   "metadata": {},
   "source": [
    "TEST mape: 23.36"
   ]
  },
  {
   "cell_type": "markdown",
   "metadata": {},
   "source": [
    "Логистическая регрессия работает долго на нашем датасете и показывает результаты хуже чем у наивной модели."
   ]
  },
  {
   "cell_type": "markdown",
   "metadata": {},
   "source": [
    "## Model 3: RandomForestRegressor"
   ]
  },
  {
   "cell_type": "code",
   "execution_count": 18,
   "metadata": {},
   "outputs": [],
   "source": [
    "model = RandomForestRegressor(n_estimators=100, verbose=1, n_jobs=-1, random_state=RANDOM_SEED)"
   ]
  },
  {
   "cell_type": "code",
   "execution_count": 19,
   "metadata": {},
   "outputs": [
    {
     "name": "stderr",
     "output_type": "stream",
     "text": [
      "[Parallel(n_jobs=-1)]: Using backend ThreadingBackend with 4 concurrent workers.\n",
      "[Parallel(n_jobs=-1)]: Done  42 tasks      | elapsed:    3.5s\n",
      "[Parallel(n_jobs=-1)]: Done 100 out of 100 | elapsed:    8.1s finished\n"
     ]
    },
    {
     "data": {
      "text/plain": [
       "RandomForestRegressor(n_jobs=-1, random_state=42, verbose=1)"
      ]
     },
     "execution_count": 19,
     "metadata": {},
     "output_type": "execute_result"
    }
   ],
   "source": [
    "# Обучаем модель на тестовом наборе данных\n",
    "model.fit(X_train, y_train)"
   ]
  },
  {
   "cell_type": "code",
   "execution_count": 20,
   "metadata": {
    "scrolled": true
   },
   "outputs": [
    {
     "name": "stdout",
     "output_type": "stream",
     "text": [
      "TEST mape: 15.88%\n"
     ]
    },
    {
     "name": "stderr",
     "output_type": "stream",
     "text": [
      "[Parallel(n_jobs=4)]: Using backend ThreadingBackend with 4 concurrent workers.\n",
      "[Parallel(n_jobs=4)]: Done  42 tasks      | elapsed:    0.1s\n",
      "[Parallel(n_jobs=4)]: Done 100 out of 100 | elapsed:    0.1s finished\n"
     ]
    }
   ],
   "source": [
    "test_predict_RFR = model.predict(X_test)\n",
    "print(f\"TEST mape: {(mape(y_test, test_predict_RFR))*100:0.2f}%\")"
   ]
  },
  {
   "cell_type": "markdown",
   "metadata": {},
   "source": [
    "Случайный лес работает очень быстро и показывает приемлемые результаты."
   ]
  },
  {
   "cell_type": "markdown",
   "metadata": {
    "id": "QpAIuksd6jEE"
   },
   "source": [
    "## Model 4: CatBoostRegressor"
   ]
  },
  {
   "cell_type": "markdown",
   "metadata": {},
   "source": [
    "Обучим модель на основе catboost, предварительно настроим параметры для получения наилучшего результата."
   ]
  },
  {
   "cell_type": "code",
   "execution_count": 21,
   "metadata": {
    "colab": {
     "base_uri": "https://localhost:8080/"
    },
    "executionInfo": {
     "elapsed": 234791,
     "status": "ok",
     "timestamp": 1610626390132,
     "user": {
      "displayName": "Фёдор Азаров",
      "photoUrl": "",
      "userId": "06471763163872178747"
     },
     "user_tz": -180
    },
    "id": "XknjgX-EYj0r",
    "outputId": "02c3911c-d20e-4a33-f449-9c8218c63481",
    "scrolled": true
   },
   "outputs": [
    {
     "name": "stdout",
     "output_type": "stream",
     "text": [
      "Learning rate set to 0.025198\n",
      "0:\tlearn: 0.4471982\ttest: 0.4488975\tbest: 0.4488975 (0)\ttotal: 54.1ms\tremaining: 6m 18s\n",
      "100:\tlearn: 0.2245133\ttest: 0.2226927\tbest: 0.2226927 (100)\ttotal: 619ms\tremaining: 42.3s\n",
      "200:\tlearn: 0.1973308\ttest: 0.1952692\tbest: 0.1952692 (200)\ttotal: 1.3s\tremaining: 44.2s\n",
      "300:\tlearn: 0.1884244\ttest: 0.1868748\tbest: 0.1868748 (300)\ttotal: 1.94s\tremaining: 43.2s\n",
      "400:\tlearn: 0.1837890\ttest: 0.1827972\tbest: 0.1827972 (400)\ttotal: 2.76s\tremaining: 45.4s\n",
      "500:\tlearn: 0.1805586\ttest: 0.1803172\tbest: 0.1803172 (500)\ttotal: 3.57s\tremaining: 46.3s\n",
      "600:\tlearn: 0.1779863\ttest: 0.1784174\tbest: 0.1784174 (600)\ttotal: 4.57s\tremaining: 48.7s\n",
      "700:\tlearn: 0.1757665\ttest: 0.1768621\tbest: 0.1768611 (699)\ttotal: 5.55s\tremaining: 49.9s\n",
      "800:\tlearn: 0.1737174\ttest: 0.1754082\tbest: 0.1754082 (800)\ttotal: 6.31s\tremaining: 48.8s\n",
      "900:\tlearn: 0.1719221\ttest: 0.1743347\tbest: 0.1743347 (900)\ttotal: 7.19s\tremaining: 48.7s\n",
      "1000:\tlearn: 0.1703156\ttest: 0.1733613\tbest: 0.1733613 (1000)\ttotal: 8.09s\tremaining: 48.5s\n",
      "1100:\tlearn: 0.1688131\ttest: 0.1725402\tbest: 0.1725366 (1099)\ttotal: 8.85s\tremaining: 47.4s\n",
      "1200:\tlearn: 0.1674712\ttest: 0.1719154\tbest: 0.1719154 (1200)\ttotal: 9.7s\tremaining: 46.8s\n",
      "1300:\tlearn: 0.1661042\ttest: 0.1711711\tbest: 0.1711711 (1300)\ttotal: 10.6s\tremaining: 46.4s\n",
      "1400:\tlearn: 0.1649191\ttest: 0.1706217\tbest: 0.1706195 (1399)\ttotal: 11.3s\tremaining: 45.1s\n",
      "1500:\tlearn: 0.1637872\ttest: 0.1701268\tbest: 0.1701268 (1500)\ttotal: 12.2s\tremaining: 44.6s\n",
      "1600:\tlearn: 0.1626900\ttest: 0.1696897\tbest: 0.1696853 (1599)\ttotal: 12.8s\tremaining: 43.3s\n",
      "1700:\tlearn: 0.1616887\ttest: 0.1692964\tbest: 0.1692964 (1700)\ttotal: 13.7s\tremaining: 42.7s\n",
      "1800:\tlearn: 0.1607415\ttest: 0.1688826\tbest: 0.1688826 (1800)\ttotal: 14.6s\tremaining: 42.2s\n",
      "1900:\tlearn: 0.1598388\ttest: 0.1685167\tbest: 0.1685116 (1892)\ttotal: 15.4s\tremaining: 41.2s\n",
      "2000:\tlearn: 0.1589952\ttest: 0.1682528\tbest: 0.1682528 (2000)\ttotal: 16.4s\tremaining: 40.9s\n",
      "2100:\tlearn: 0.1581499\ttest: 0.1679747\tbest: 0.1679747 (2100)\ttotal: 17.5s\tremaining: 40.7s\n",
      "2200:\tlearn: 0.1573007\ttest: 0.1677161\tbest: 0.1677160 (2197)\ttotal: 18.4s\tremaining: 40.1s\n",
      "2300:\tlearn: 0.1564486\ttest: 0.1674058\tbest: 0.1673974 (2298)\ttotal: 19.3s\tremaining: 39.3s\n",
      "2400:\tlearn: 0.1557379\ttest: 0.1672133\tbest: 0.1672133 (2400)\ttotal: 20s\tremaining: 38.3s\n",
      "2500:\tlearn: 0.1550021\ttest: 0.1669508\tbest: 0.1669508 (2500)\ttotal: 20.8s\tremaining: 37.4s\n",
      "2600:\tlearn: 0.1542916\ttest: 0.1667178\tbest: 0.1667173 (2588)\ttotal: 21.6s\tremaining: 36.5s\n",
      "2700:\tlearn: 0.1535538\ttest: 0.1664588\tbest: 0.1664588 (2700)\ttotal: 22.3s\tremaining: 35.6s\n",
      "2800:\tlearn: 0.1529042\ttest: 0.1662502\tbest: 0.1662492 (2799)\ttotal: 23.1s\tremaining: 34.6s\n",
      "2900:\tlearn: 0.1522051\ttest: 0.1660457\tbest: 0.1660457 (2900)\ttotal: 23.8s\tremaining: 33.6s\n",
      "3000:\tlearn: 0.1515926\ttest: 0.1658685\tbest: 0.1658685 (3000)\ttotal: 24.5s\tremaining: 32.6s\n",
      "3100:\tlearn: 0.1509409\ttest: 0.1657274\tbest: 0.1657222 (3099)\ttotal: 25.4s\tremaining: 31.9s\n",
      "3200:\tlearn: 0.1502418\ttest: 0.1655118\tbest: 0.1655113 (3199)\ttotal: 26s\tremaining: 30.9s\n",
      "3300:\tlearn: 0.1496884\ttest: 0.1654055\tbest: 0.1653938 (3289)\ttotal: 27.1s\tremaining: 30.4s\n",
      "3400:\tlearn: 0.1491021\ttest: 0.1653095\tbest: 0.1653036 (3399)\ttotal: 27.9s\tremaining: 29.6s\n",
      "3500:\tlearn: 0.1485123\ttest: 0.1652201\tbest: 0.1652118 (3488)\ttotal: 28.6s\tremaining: 28.5s\n",
      "3600:\tlearn: 0.1479409\ttest: 0.1650487\tbest: 0.1650487 (3600)\ttotal: 29.4s\tremaining: 27.7s\n",
      "3700:\tlearn: 0.1473199\ttest: 0.1649103\tbest: 0.1649074 (3697)\ttotal: 30.4s\tremaining: 27.1s\n",
      "3800:\tlearn: 0.1467456\ttest: 0.1648561\tbest: 0.1648381 (3768)\ttotal: 31.5s\tremaining: 26.5s\n",
      "3900:\tlearn: 0.1462202\ttest: 0.1647582\tbest: 0.1647564 (3899)\ttotal: 32.8s\tremaining: 26.1s\n",
      "4000:\tlearn: 0.1456771\ttest: 0.1646925\tbest: 0.1646812 (3983)\ttotal: 33.9s\tremaining: 25.4s\n",
      "4100:\tlearn: 0.1451602\ttest: 0.1646273\tbest: 0.1646155 (4088)\ttotal: 34.8s\tremaining: 24.6s\n",
      "4200:\tlearn: 0.1446392\ttest: 0.1645596\tbest: 0.1645556 (4194)\ttotal: 35.6s\tremaining: 23.7s\n",
      "4300:\tlearn: 0.1441807\ttest: 0.1645039\tbest: 0.1644960 (4288)\ttotal: 36.7s\tremaining: 23s\n",
      "4400:\tlearn: 0.1437234\ttest: 0.1643829\tbest: 0.1643818 (4396)\ttotal: 37.4s\tremaining: 22.1s\n",
      "4500:\tlearn: 0.1432520\ttest: 0.1643334\tbest: 0.1643255 (4490)\ttotal: 38s\tremaining: 21.1s\n",
      "4600:\tlearn: 0.1427353\ttest: 0.1641618\tbest: 0.1641618 (4600)\ttotal: 38.8s\tremaining: 20.2s\n",
      "4700:\tlearn: 0.1422452\ttest: 0.1640765\tbest: 0.1640765 (4700)\ttotal: 39.6s\tremaining: 19.4s\n",
      "4800:\tlearn: 0.1417626\ttest: 0.1640061\tbest: 0.1640036 (4793)\ttotal: 40.3s\tremaining: 18.5s\n",
      "4900:\tlearn: 0.1413016\ttest: 0.1639434\tbest: 0.1639397 (4896)\ttotal: 41.1s\tremaining: 17.6s\n",
      "5000:\tlearn: 0.1408439\ttest: 0.1638089\tbest: 0.1638089 (5000)\ttotal: 41.9s\tremaining: 16.8s\n",
      "5100:\tlearn: 0.1404385\ttest: 0.1636754\tbest: 0.1636723 (5097)\ttotal: 43.2s\tremaining: 16.1s\n",
      "5200:\tlearn: 0.1399902\ttest: 0.1635969\tbest: 0.1635951 (5193)\ttotal: 44.4s\tremaining: 15.4s\n",
      "5300:\tlearn: 0.1395385\ttest: 0.1634979\tbest: 0.1634969 (5299)\ttotal: 45.3s\tremaining: 14.5s\n",
      "5400:\tlearn: 0.1390914\ttest: 0.1634505\tbest: 0.1634472 (5399)\ttotal: 46.1s\tremaining: 13.6s\n",
      "5500:\tlearn: 0.1386557\ttest: 0.1633644\tbest: 0.1633617 (5499)\ttotal: 46.8s\tremaining: 12.7s\n",
      "5600:\tlearn: 0.1382328\ttest: 0.1632646\tbest: 0.1632626 (5598)\ttotal: 47.7s\tremaining: 11.9s\n",
      "5700:\tlearn: 0.1377910\ttest: 0.1631851\tbest: 0.1631851 (5700)\ttotal: 49s\tremaining: 11.2s\n",
      "5800:\tlearn: 0.1373631\ttest: 0.1631107\tbest: 0.1631107 (5800)\ttotal: 49.8s\tremaining: 10.3s\n",
      "5900:\tlearn: 0.1369543\ttest: 0.1630739\tbest: 0.1630681 (5893)\ttotal: 50.5s\tremaining: 9.4s\n",
      "6000:\tlearn: 0.1365173\ttest: 0.1630317\tbest: 0.1630317 (6000)\ttotal: 51.2s\tremaining: 8.53s\n",
      "6100:\tlearn: 0.1360861\ttest: 0.1629300\tbest: 0.1629239 (6097)\ttotal: 51.8s\tremaining: 7.63s\n",
      "6200:\tlearn: 0.1356942\ttest: 0.1628434\tbest: 0.1628410 (6198)\ttotal: 52.3s\tremaining: 6.74s\n",
      "6300:\tlearn: 0.1352953\ttest: 0.1627538\tbest: 0.1627538 (6300)\ttotal: 52.8s\tremaining: 5.86s\n",
      "6400:\tlearn: 0.1348760\ttest: 0.1626894\tbest: 0.1626841 (6397)\ttotal: 53.7s\tremaining: 5.03s\n",
      "6500:\tlearn: 0.1344762\ttest: 0.1626171\tbest: 0.1626169 (6499)\ttotal: 54.3s\tremaining: 4.17s\n",
      "6600:\tlearn: 0.1341070\ttest: 0.1625914\tbest: 0.1625763 (6585)\ttotal: 54.8s\tremaining: 3.31s\n",
      "6700:\tlearn: 0.1336905\ttest: 0.1625285\tbest: 0.1625255 (6696)\ttotal: 55.6s\tremaining: 2.48s\n",
      "6800:\tlearn: 0.1333184\ttest: 0.1624810\tbest: 0.1624810 (6800)\ttotal: 56.4s\tremaining: 1.65s\n",
      "6900:\tlearn: 0.1329338\ttest: 0.1624066\tbest: 0.1624052 (6899)\ttotal: 57.1s\tremaining: 820ms\n",
      "6999:\tlearn: 0.1325154\ttest: 0.1623465\tbest: 0.1623417 (6994)\ttotal: 57.7s\tremaining: 0us\n",
      "\n",
      "bestTest = 0.1623416648\n",
      "bestIteration = 6994\n",
      "\n",
      "Shrink model to first 6995 iterations.\n"
     ]
    },
    {
     "data": {
      "text/plain": [
       "<catboost.core.CatBoostRegressor at 0x7faff527fcd0>"
      ]
     },
     "execution_count": 21,
     "metadata": {},
     "output_type": "execute_result"
    }
   ],
   "source": [
    "model = CatBoostRegressor(iterations = 7000,\n",
    "                          #depth=12,\n",
    "                          #learning_rate = 0.02,\n",
    "                          random_seed = RANDOM_SEED,\n",
    "                          eval_metric='MAPE',\n",
    "                          custom_metric=['RMSE', 'MAE'],\n",
    "                          od_wait=500,\n",
    "                          #task_type='GPU',\n",
    "                         )\n",
    "model.fit(X_train, y_train,\n",
    "         eval_set=(X_test, y_test),\n",
    "         verbose_eval=100,\n",
    "         use_best_model=True,\n",
    "         #plot=True\n",
    "         )"
   ]
  },
  {
   "cell_type": "code",
   "execution_count": 22,
   "metadata": {
    "colab": {
     "base_uri": "https://localhost:8080/"
    },
    "executionInfo": {
     "elapsed": 234785,
     "status": "ok",
     "timestamp": 1610626390138,
     "user": {
      "displayName": "Фёдор Азаров",
      "photoUrl": "",
      "userId": "06471763163872178747"
     },
     "user_tz": -180
    },
    "id": "dpEpHK-SYj0u",
    "outputId": "820e8139-25a8-41b5-d237-ab7b4e102ee7",
    "scrolled": true
   },
   "outputs": [
    {
     "name": "stdout",
     "output_type": "stream",
     "text": [
      "TEST mape: 16.23%\n"
     ]
    }
   ],
   "source": [
    "test_predict_catboost = model.predict(X_test)\n",
    "print(f\"TEST mape: {(mape(y_test, test_predict_catboost))*100:0.2f}%\")"
   ]
  },
  {
   "cell_type": "markdown",
   "metadata": {},
   "source": [
    "Catboost показал результаты хуже чем RandomForest"
   ]
  },
  {
   "cell_type": "markdown",
   "metadata": {
    "id": "wfxbfmTfYj00"
   },
   "source": [
    "## Model 5: Catboost CV"
   ]
  },
  {
   "cell_type": "markdown",
   "metadata": {
    "id": "uYRBCo7AYj01"
   },
   "source": [
    "Организуем обучение модели на 5 фолдах, с дальнейшим объединением предсказаний от каждой модели."
   ]
  },
  {
   "cell_type": "code",
   "execution_count": 23,
   "metadata": {
    "id": "cn3uzsyPYj04"
   },
   "outputs": [],
   "source": [
    "def cat_model(y_train, X_train, X_test, y_test):\n",
    "    model = CatBoostRegressor(iterations = 7000,\n",
    "                              #depth=12,\n",
    "                              #learning_rate = 0.02,\n",
    "                              random_seed = RANDOM_SEED,\n",
    "                              eval_metric='MAPE',\n",
    "                              custom_metric=['RMSE', 'MAE'],\n",
    "                              od_wait=500,\n",
    "                              #task_type='GPU',\n",
    "                            )\n",
    "    model.fit(X_train, y_train,\n",
    "            eval_set=(X_test, y_test),\n",
    "            verbose_eval=100,\n",
    "            use_best_model=True\n",
    "            )\n",
    "    \n",
    "    return(model)"
   ]
  },
  {
   "cell_type": "code",
   "execution_count": 24,
   "metadata": {
    "id": "Nz5HcEgUwnUP"
   },
   "outputs": [
    {
     "data": {
      "application/vnd.jupyter.widget-view+json": {
       "model_id": "ebd5e5f662cc4da5913f6bb01444ba01",
       "version_major": 2,
       "version_minor": 0
      },
      "text/plain": [
       "HBox(children=(FloatProgress(value=0.0, max=5.0), HTML(value='')))"
      ]
     },
     "metadata": {},
     "output_type": "display_data"
    },
    {
     "name": "stdout",
     "output_type": "stream",
     "text": [
      "Learning rate set to 0.025198\n",
      "0:\tlearn: 0.4476575\ttest: 0.4493186\tbest: 0.4493186 (0)\ttotal: 14.8ms\tremaining: 1m 43s\n",
      "100:\tlearn: 0.2240187\ttest: 0.2222793\tbest: 0.2222793 (100)\ttotal: 719ms\tremaining: 49.1s\n",
      "200:\tlearn: 0.1969992\ttest: 0.1953606\tbest: 0.1953606 (200)\ttotal: 1.42s\tremaining: 48s\n",
      "300:\tlearn: 0.1880496\ttest: 0.1868910\tbest: 0.1868910 (300)\ttotal: 2.04s\tremaining: 45.3s\n",
      "400:\tlearn: 0.1833518\ttest: 0.1827151\tbest: 0.1827151 (400)\ttotal: 3.07s\tremaining: 50.6s\n",
      "500:\tlearn: 0.1800014\ttest: 0.1800000\tbest: 0.1800000 (500)\ttotal: 3.86s\tremaining: 50s\n",
      "600:\tlearn: 0.1775002\ttest: 0.1781819\tbest: 0.1781819 (600)\ttotal: 4.66s\tremaining: 49.6s\n",
      "700:\tlearn: 0.1753625\ttest: 0.1766504\tbest: 0.1766504 (700)\ttotal: 5.39s\tremaining: 48.4s\n",
      "800:\tlearn: 0.1735508\ttest: 0.1754997\tbest: 0.1754997 (800)\ttotal: 6.04s\tremaining: 46.8s\n",
      "900:\tlearn: 0.1717889\ttest: 0.1743939\tbest: 0.1743939 (900)\ttotal: 6.83s\tremaining: 46.3s\n",
      "1000:\tlearn: 0.1701092\ttest: 0.1733268\tbest: 0.1733252 (999)\ttotal: 7.59s\tremaining: 45.5s\n",
      "1100:\tlearn: 0.1687025\ttest: 0.1725775\tbest: 0.1725775 (1100)\ttotal: 8.34s\tremaining: 44.7s\n",
      "1200:\tlearn: 0.1674004\ttest: 0.1719293\tbest: 0.1719293 (1200)\ttotal: 8.9s\tremaining: 43s\n",
      "1300:\tlearn: 0.1660063\ttest: 0.1711989\tbest: 0.1711989 (1300)\ttotal: 9.91s\tremaining: 43.4s\n",
      "1400:\tlearn: 0.1649095\ttest: 0.1706774\tbest: 0.1706774 (1400)\ttotal: 10.7s\tremaining: 42.9s\n",
      "1500:\tlearn: 0.1637777\ttest: 0.1701141\tbest: 0.1701141 (1500)\ttotal: 11.5s\tremaining: 42.1s\n",
      "1600:\tlearn: 0.1627026\ttest: 0.1696004\tbest: 0.1696004 (1600)\ttotal: 12.3s\tremaining: 41.5s\n",
      "1700:\tlearn: 0.1617437\ttest: 0.1692371\tbest: 0.1692320 (1697)\ttotal: 13.1s\tremaining: 40.7s\n",
      "1800:\tlearn: 0.1608274\ttest: 0.1689417\tbest: 0.1689386 (1797)\ttotal: 13.7s\tremaining: 39.7s\n",
      "1900:\tlearn: 0.1598462\ttest: 0.1685072\tbest: 0.1685072 (1900)\ttotal: 15s\tremaining: 40.3s\n",
      "2000:\tlearn: 0.1589661\ttest: 0.1682542\tbest: 0.1682476 (1998)\ttotal: 15.9s\tremaining: 39.7s\n",
      "2100:\tlearn: 0.1581605\ttest: 0.1680165\tbest: 0.1680068 (2097)\ttotal: 16.8s\tremaining: 39.1s\n",
      "2200:\tlearn: 0.1573624\ttest: 0.1677323\tbest: 0.1677295 (2199)\ttotal: 17.8s\tremaining: 38.8s\n",
      "2300:\tlearn: 0.1565690\ttest: 0.1675470\tbest: 0.1675470 (2300)\ttotal: 19s\tremaining: 38.8s\n",
      "2400:\tlearn: 0.1557826\ttest: 0.1672838\tbest: 0.1672750 (2396)\ttotal: 19.8s\tremaining: 37.9s\n",
      "2500:\tlearn: 0.1550554\ttest: 0.1670730\tbest: 0.1670730 (2500)\ttotal: 20.5s\tremaining: 36.9s\n",
      "2600:\tlearn: 0.1543018\ttest: 0.1667933\tbest: 0.1667877 (2598)\ttotal: 21.3s\tremaining: 36s\n",
      "2700:\tlearn: 0.1535430\ttest: 0.1665755\tbest: 0.1665737 (2698)\ttotal: 22.4s\tremaining: 35.6s\n",
      "2800:\tlearn: 0.1528866\ttest: 0.1663745\tbest: 0.1663745 (2800)\ttotal: 23.2s\tremaining: 34.7s\n",
      "2900:\tlearn: 0.1522522\ttest: 0.1662096\tbest: 0.1662096 (2900)\ttotal: 23.9s\tremaining: 33.8s\n",
      "3000:\tlearn: 0.1516555\ttest: 0.1661002\tbest: 0.1660971 (2989)\ttotal: 24.7s\tremaining: 32.9s\n",
      "3100:\tlearn: 0.1510646\ttest: 0.1659520\tbest: 0.1659495 (3098)\ttotal: 25.4s\tremaining: 32s\n",
      "3200:\tlearn: 0.1505054\ttest: 0.1658147\tbest: 0.1658144 (3198)\ttotal: 26.4s\tremaining: 31.4s\n",
      "3300:\tlearn: 0.1498975\ttest: 0.1656572\tbest: 0.1656572 (3300)\ttotal: 27.3s\tremaining: 30.6s\n",
      "3400:\tlearn: 0.1493350\ttest: 0.1654890\tbest: 0.1654890 (3400)\ttotal: 28s\tremaining: 29.7s\n",
      "3500:\tlearn: 0.1487352\ttest: 0.1653443\tbest: 0.1653400 (3498)\ttotal: 29.3s\tremaining: 29.3s\n",
      "3600:\tlearn: 0.1481651\ttest: 0.1652228\tbest: 0.1652228 (3600)\ttotal: 30s\tremaining: 28.3s\n",
      "3700:\tlearn: 0.1476065\ttest: 0.1650969\tbest: 0.1650958 (3699)\ttotal: 30.8s\tremaining: 27.5s\n",
      "3800:\tlearn: 0.1470660\ttest: 0.1649332\tbest: 0.1649332 (3800)\ttotal: 31.6s\tremaining: 26.6s\n",
      "3900:\tlearn: 0.1465115\ttest: 0.1647474\tbest: 0.1647468 (3899)\ttotal: 32.8s\tremaining: 26s\n",
      "4000:\tlearn: 0.1459980\ttest: 0.1646208\tbest: 0.1646207 (3998)\ttotal: 33.6s\tremaining: 25.2s\n",
      "4100:\tlearn: 0.1454605\ttest: 0.1644671\tbest: 0.1644647 (4097)\ttotal: 34.2s\tremaining: 24.2s\n",
      "4200:\tlearn: 0.1449376\ttest: 0.1643574\tbest: 0.1643555 (4199)\ttotal: 35.2s\tremaining: 23.4s\n",
      "4300:\tlearn: 0.1444201\ttest: 0.1642332\tbest: 0.1642322 (4289)\ttotal: 35.9s\tremaining: 22.5s\n",
      "4400:\tlearn: 0.1438814\ttest: 0.1641270\tbest: 0.1641238 (4384)\ttotal: 36.6s\tremaining: 21.6s\n",
      "4500:\tlearn: 0.1433844\ttest: 0.1639907\tbest: 0.1639895 (4499)\ttotal: 37.6s\tremaining: 20.9s\n",
      "4600:\tlearn: 0.1429292\ttest: 0.1639418\tbest: 0.1639418 (4600)\ttotal: 38.4s\tremaining: 20s\n",
      "4700:\tlearn: 0.1423891\ttest: 0.1638485\tbest: 0.1638485 (4700)\ttotal: 39.6s\tremaining: 19.4s\n",
      "4800:\tlearn: 0.1419404\ttest: 0.1637568\tbest: 0.1637541 (4796)\ttotal: 41s\tremaining: 18.8s\n",
      "4900:\tlearn: 0.1414377\ttest: 0.1636347\tbest: 0.1636347 (4900)\ttotal: 41.8s\tremaining: 17.9s\n",
      "5000:\tlearn: 0.1409749\ttest: 0.1635590\tbest: 0.1635413 (4975)\ttotal: 42.9s\tremaining: 17.1s\n",
      "5100:\tlearn: 0.1405236\ttest: 0.1634915\tbest: 0.1634808 (5096)\ttotal: 43.9s\tremaining: 16.3s\n",
      "5200:\tlearn: 0.1400345\ttest: 0.1634135\tbest: 0.1634135 (5200)\ttotal: 44.6s\tremaining: 15.4s\n",
      "5300:\tlearn: 0.1395877\ttest: 0.1633502\tbest: 0.1633499 (5299)\ttotal: 45.3s\tremaining: 14.5s\n",
      "5400:\tlearn: 0.1391376\ttest: 0.1632867\tbest: 0.1632820 (5395)\ttotal: 46s\tremaining: 13.6s\n",
      "5500:\tlearn: 0.1387124\ttest: 0.1632597\tbest: 0.1632554 (5497)\ttotal: 46.7s\tremaining: 12.7s\n",
      "5600:\tlearn: 0.1382592\ttest: 0.1631654\tbest: 0.1631654 (5600)\ttotal: 47.4s\tremaining: 11.8s\n",
      "5700:\tlearn: 0.1378356\ttest: 0.1631031\tbest: 0.1630932 (5693)\ttotal: 48.3s\tremaining: 11s\n",
      "5800:\tlearn: 0.1373840\ttest: 0.1629947\tbest: 0.1629947 (5800)\ttotal: 48.9s\tremaining: 10.1s\n",
      "5900:\tlearn: 0.1369813\ttest: 0.1629371\tbest: 0.1629315 (5899)\ttotal: 49.5s\tremaining: 9.22s\n",
      "6000:\tlearn: 0.1365764\ttest: 0.1628538\tbest: 0.1628525 (5999)\ttotal: 50.1s\tremaining: 8.35s\n",
      "6100:\tlearn: 0.1361654\ttest: 0.1627973\tbest: 0.1627942 (6097)\ttotal: 50.7s\tremaining: 7.47s\n",
      "6200:\tlearn: 0.1357520\ttest: 0.1626871\tbest: 0.1626842 (6189)\ttotal: 51.3s\tremaining: 6.61s\n",
      "6300:\tlearn: 0.1353267\ttest: 0.1626837\tbest: 0.1626622 (6282)\ttotal: 52.2s\tremaining: 5.79s\n",
      "6400:\tlearn: 0.1348949\ttest: 0.1625938\tbest: 0.1625923 (6399)\ttotal: 53.1s\tremaining: 4.96s\n",
      "6500:\tlearn: 0.1345123\ttest: 0.1625303\tbest: 0.1625264 (6497)\ttotal: 54.2s\tremaining: 4.16s\n",
      "6600:\tlearn: 0.1341191\ttest: 0.1625459\tbest: 0.1625170 (6566)\ttotal: 55.1s\tremaining: 3.33s\n",
      "6700:\tlearn: 0.1337409\ttest: 0.1624899\tbest: 0.1624880 (6687)\ttotal: 56.4s\tremaining: 2.51s\n",
      "6800:\tlearn: 0.1333706\ttest: 0.1624332\tbest: 0.1624285 (6798)\ttotal: 56.9s\tremaining: 1.66s\n",
      "6900:\tlearn: 0.1329951\ttest: 0.1623774\tbest: 0.1623759 (6897)\ttotal: 57.8s\tremaining: 829ms\n",
      "6999:\tlearn: 0.1326189\ttest: 0.1623259\tbest: 0.1623254 (6995)\ttotal: 58.7s\tremaining: 0us\n",
      "\n",
      "bestTest = 0.1623254078\n",
      "bestIteration = 6995\n",
      "\n",
      "Shrink model to first 6996 iterations.\n",
      "1 Fold Test MAPE: 0.162\n",
      "Learning rate set to 0.025198\n",
      "0:\tlearn: 0.4478130\ttest: 0.4431513\tbest: 0.4431513 (0)\ttotal: 9.05ms\tremaining: 1m 3s\n",
      "100:\tlearn: 0.2235697\ttest: 0.2263328\tbest: 0.2263328 (100)\ttotal: 890ms\tremaining: 1m\n",
      "200:\tlearn: 0.1959874\ttest: 0.2002841\tbest: 0.2002841 (200)\ttotal: 1.75s\tremaining: 59.3s\n",
      "300:\tlearn: 0.1868402\ttest: 0.1923421\tbest: 0.1923421 (300)\ttotal: 2.24s\tremaining: 50s\n",
      "400:\tlearn: 0.1819869\ttest: 0.1884802\tbest: 0.1884802 (400)\ttotal: 2.91s\tremaining: 47.9s\n",
      "500:\tlearn: 0.1786252\ttest: 0.1859261\tbest: 0.1859261 (500)\ttotal: 3.6s\tremaining: 46.7s\n",
      "600:\tlearn: 0.1760759\ttest: 0.1843175\tbest: 0.1843175 (600)\ttotal: 4.4s\tremaining: 46.9s\n",
      "700:\tlearn: 0.1738887\ttest: 0.1829041\tbest: 0.1829041 (700)\ttotal: 5.3s\tremaining: 47.7s\n",
      "800:\tlearn: 0.1720587\ttest: 0.1817189\tbest: 0.1817189 (800)\ttotal: 6.08s\tremaining: 47s\n",
      "900:\tlearn: 0.1702554\ttest: 0.1806025\tbest: 0.1806025 (900)\ttotal: 6.89s\tremaining: 46.6s\n",
      "1000:\tlearn: 0.1686686\ttest: 0.1796610\tbest: 0.1796610 (1000)\ttotal: 7.41s\tremaining: 44.4s\n",
      "1100:\tlearn: 0.1671868\ttest: 0.1787763\tbest: 0.1787763 (1100)\ttotal: 8.34s\tremaining: 44.7s\n",
      "1200:\tlearn: 0.1659111\ttest: 0.1781009\tbest: 0.1781009 (1200)\ttotal: 9.12s\tremaining: 44s\n",
      "1300:\tlearn: 0.1646697\ttest: 0.1774262\tbest: 0.1774256 (1299)\ttotal: 10s\tremaining: 44s\n",
      "1400:\tlearn: 0.1635621\ttest: 0.1768988\tbest: 0.1768988 (1400)\ttotal: 11.1s\tremaining: 44.2s\n",
      "1500:\tlearn: 0.1624451\ttest: 0.1764397\tbest: 0.1764397 (1500)\ttotal: 12s\tremaining: 44.1s\n",
      "1600:\tlearn: 0.1614839\ttest: 0.1759918\tbest: 0.1759918 (1600)\ttotal: 12.7s\tremaining: 42.9s\n",
      "1700:\tlearn: 0.1604916\ttest: 0.1755110\tbest: 0.1755110 (1700)\ttotal: 13.4s\tremaining: 41.6s\n"
     ]
    },
    {
     "name": "stdout",
     "output_type": "stream",
     "text": [
      "1800:\tlearn: 0.1595768\ttest: 0.1751345\tbest: 0.1751345 (1800)\ttotal: 14.2s\tremaining: 40.9s\n",
      "1900:\tlearn: 0.1587025\ttest: 0.1747575\tbest: 0.1747575 (1900)\ttotal: 15s\tremaining: 40.2s\n",
      "2000:\tlearn: 0.1578041\ttest: 0.1743827\tbest: 0.1743827 (2000)\ttotal: 15.7s\tremaining: 39.3s\n",
      "2100:\tlearn: 0.1569062\ttest: 0.1739840\tbest: 0.1739838 (2099)\ttotal: 16.6s\tremaining: 38.8s\n",
      "2200:\tlearn: 0.1560603\ttest: 0.1736655\tbest: 0.1736588 (2195)\ttotal: 17.5s\tremaining: 38.1s\n",
      "2300:\tlearn: 0.1552238\ttest: 0.1733383\tbest: 0.1733383 (2300)\ttotal: 18.3s\tremaining: 37.3s\n",
      "2400:\tlearn: 0.1545140\ttest: 0.1730693\tbest: 0.1730693 (2400)\ttotal: 19.1s\tremaining: 36.7s\n",
      "2500:\tlearn: 0.1537559\ttest: 0.1727692\tbest: 0.1727692 (2500)\ttotal: 19.9s\tremaining: 35.8s\n",
      "2600:\tlearn: 0.1529605\ttest: 0.1724971\tbest: 0.1724951 (2599)\ttotal: 20.8s\tremaining: 35.2s\n",
      "2700:\tlearn: 0.1522642\ttest: 0.1722517\tbest: 0.1722508 (2696)\ttotal: 21.7s\tremaining: 34.5s\n",
      "2800:\tlearn: 0.1515647\ttest: 0.1720208\tbest: 0.1720208 (2800)\ttotal: 22.6s\tremaining: 33.9s\n",
      "2900:\tlearn: 0.1509330\ttest: 0.1718105\tbest: 0.1718065 (2899)\ttotal: 23.2s\tremaining: 32.7s\n",
      "3000:\tlearn: 0.1503078\ttest: 0.1715930\tbest: 0.1715899 (2997)\ttotal: 24.1s\tremaining: 32.1s\n",
      "3100:\tlearn: 0.1496685\ttest: 0.1713894\tbest: 0.1713894 (3100)\ttotal: 24.8s\tremaining: 31.2s\n",
      "3200:\tlearn: 0.1490847\ttest: 0.1712365\tbest: 0.1712365 (3200)\ttotal: 25.5s\tremaining: 30.2s\n",
      "3300:\tlearn: 0.1484897\ttest: 0.1711891\tbest: 0.1711754 (3290)\ttotal: 26.2s\tremaining: 29.3s\n",
      "3400:\tlearn: 0.1479094\ttest: 0.1710804\tbest: 0.1710786 (3398)\ttotal: 26.7s\tremaining: 28.2s\n",
      "3500:\tlearn: 0.1473494\ttest: 0.1709896\tbest: 0.1709896 (3500)\ttotal: 27.5s\tremaining: 27.5s\n",
      "3600:\tlearn: 0.1468089\ttest: 0.1708923\tbest: 0.1708923 (3600)\ttotal: 28.6s\tremaining: 27s\n",
      "3700:\tlearn: 0.1462332\ttest: 0.1707577\tbest: 0.1707552 (3699)\ttotal: 29.4s\tremaining: 26.2s\n",
      "3800:\tlearn: 0.1456704\ttest: 0.1706189\tbest: 0.1706189 (3800)\ttotal: 30.3s\tremaining: 25.5s\n",
      "3900:\tlearn: 0.1451459\ttest: 0.1704955\tbest: 0.1704939 (3899)\ttotal: 31.1s\tremaining: 24.7s\n",
      "4000:\tlearn: 0.1446334\ttest: 0.1703816\tbest: 0.1703816 (3999)\ttotal: 31.9s\tremaining: 23.9s\n",
      "4100:\tlearn: 0.1441291\ttest: 0.1702871\tbest: 0.1702871 (4100)\ttotal: 32.6s\tremaining: 23.1s\n",
      "4200:\tlearn: 0.1436033\ttest: 0.1701495\tbest: 0.1701406 (4194)\ttotal: 33.5s\tremaining: 22.3s\n",
      "4300:\tlearn: 0.1431224\ttest: 0.1700331\tbest: 0.1700264 (4298)\ttotal: 34.3s\tremaining: 21.5s\n",
      "4400:\tlearn: 0.1426105\ttest: 0.1699041\tbest: 0.1699041 (4400)\ttotal: 35.1s\tremaining: 20.7s\n",
      "4500:\tlearn: 0.1421116\ttest: 0.1698468\tbest: 0.1698393 (4498)\ttotal: 35.9s\tremaining: 19.9s\n",
      "4600:\tlearn: 0.1415971\ttest: 0.1697422\tbest: 0.1697381 (4596)\ttotal: 36.9s\tremaining: 19.2s\n",
      "4700:\tlearn: 0.1410992\ttest: 0.1696547\tbest: 0.1696545 (4699)\ttotal: 37.6s\tremaining: 18.4s\n",
      "4800:\tlearn: 0.1406244\ttest: 0.1695628\tbest: 0.1695543 (4782)\ttotal: 38.5s\tremaining: 17.6s\n",
      "4900:\tlearn: 0.1401569\ttest: 0.1695134\tbest: 0.1695134 (4900)\ttotal: 39.5s\tremaining: 16.9s\n",
      "5000:\tlearn: 0.1396858\ttest: 0.1693956\tbest: 0.1693949 (4995)\ttotal: 40.3s\tremaining: 16.1s\n",
      "5100:\tlearn: 0.1392867\ttest: 0.1693757\tbest: 0.1693724 (5096)\ttotal: 41s\tremaining: 15.3s\n",
      "5200:\tlearn: 0.1388491\ttest: 0.1693210\tbest: 0.1693184 (5199)\ttotal: 42.5s\tremaining: 14.7s\n",
      "5300:\tlearn: 0.1383912\ttest: 0.1692410\tbest: 0.1692410 (5300)\ttotal: 43.4s\tremaining: 13.9s\n",
      "5400:\tlearn: 0.1379669\ttest: 0.1691724\tbest: 0.1691707 (5389)\ttotal: 44.6s\tremaining: 13.2s\n",
      "5500:\tlearn: 0.1375093\ttest: 0.1691197\tbest: 0.1691197 (5500)\ttotal: 45.3s\tremaining: 12.3s\n",
      "5600:\tlearn: 0.1371024\ttest: 0.1690829\tbest: 0.1690826 (5597)\ttotal: 46.1s\tremaining: 11.5s\n",
      "5700:\tlearn: 0.1366654\ttest: 0.1690203\tbest: 0.1690188 (5697)\ttotal: 46.8s\tremaining: 10.7s\n",
      "5800:\tlearn: 0.1362472\ttest: 0.1689884\tbest: 0.1689884 (5800)\ttotal: 47.5s\tremaining: 9.82s\n",
      "5900:\tlearn: 0.1358642\ttest: 0.1689420\tbest: 0.1689417 (5899)\ttotal: 48.2s\tremaining: 8.98s\n",
      "6000:\tlearn: 0.1354526\ttest: 0.1688765\tbest: 0.1688738 (5993)\ttotal: 48.9s\tremaining: 8.13s\n",
      "6100:\tlearn: 0.1350438\ttest: 0.1688185\tbest: 0.1688185 (6100)\ttotal: 49.4s\tremaining: 7.28s\n",
      "6200:\tlearn: 0.1346384\ttest: 0.1687640\tbest: 0.1687584 (6196)\ttotal: 50.7s\tremaining: 6.53s\n",
      "6300:\tlearn: 0.1342103\ttest: 0.1687005\tbest: 0.1686972 (6291)\ttotal: 52.4s\tremaining: 5.81s\n",
      "6400:\tlearn: 0.1338101\ttest: 0.1686357\tbest: 0.1686313 (6392)\ttotal: 53.1s\tremaining: 4.97s\n",
      "6500:\tlearn: 0.1334248\ttest: 0.1686108\tbest: 0.1686059 (6422)\ttotal: 54s\tremaining: 4.14s\n",
      "6600:\tlearn: 0.1330698\ttest: 0.1686070\tbest: 0.1685960 (6571)\ttotal: 54.7s\tremaining: 3.31s\n",
      "6700:\tlearn: 0.1327132\ttest: 0.1685876\tbest: 0.1685707 (6672)\ttotal: 55.4s\tremaining: 2.47s\n",
      "6800:\tlearn: 0.1323453\ttest: 0.1685659\tbest: 0.1685527 (6761)\ttotal: 56.2s\tremaining: 1.64s\n",
      "6900:\tlearn: 0.1319750\ttest: 0.1685184\tbest: 0.1685184 (6900)\ttotal: 56.9s\tremaining: 816ms\n",
      "6999:\tlearn: 0.1316110\ttest: 0.1684781\tbest: 0.1684741 (6959)\ttotal: 57.8s\tremaining: 0us\n",
      "\n",
      "bestTest = 0.1684740994\n",
      "bestIteration = 6959\n",
      "\n",
      "Shrink model to first 6960 iterations.\n",
      "2 Fold Test MAPE: 0.168\n",
      "Learning rate set to 0.025198\n",
      "0:\tlearn: 0.4473537\ttest: 0.4439683\tbest: 0.4439683 (0)\ttotal: 9.32ms\tremaining: 1m 5s\n",
      "100:\tlearn: 0.2240564\ttest: 0.2243912\tbest: 0.2243912 (100)\ttotal: 1.13s\tremaining: 1m 17s\n",
      "200:\tlearn: 0.1969876\ttest: 0.1985233\tbest: 0.1985233 (200)\ttotal: 2.37s\tremaining: 1m 20s\n",
      "300:\tlearn: 0.1880320\ttest: 0.1904451\tbest: 0.1904451 (300)\ttotal: 3.17s\tremaining: 1m 10s\n",
      "400:\tlearn: 0.1831170\ttest: 0.1861449\tbest: 0.1861449 (400)\ttotal: 3.73s\tremaining: 1m 1s\n",
      "500:\tlearn: 0.1797374\ttest: 0.1832963\tbest: 0.1832963 (500)\ttotal: 4.61s\tremaining: 59.8s\n",
      "600:\tlearn: 0.1772190\ttest: 0.1813918\tbest: 0.1813918 (600)\ttotal: 5.11s\tremaining: 54.4s\n",
      "700:\tlearn: 0.1752317\ttest: 0.1800840\tbest: 0.1800840 (700)\ttotal: 5.61s\tremaining: 50.4s\n",
      "800:\tlearn: 0.1733310\ttest: 0.1787626\tbest: 0.1787626 (800)\ttotal: 6.31s\tremaining: 48.9s\n",
      "900:\tlearn: 0.1715876\ttest: 0.1778214\tbest: 0.1778214 (900)\ttotal: 7.09s\tremaining: 48s\n",
      "1000:\tlearn: 0.1699541\ttest: 0.1769685\tbest: 0.1769685 (1000)\ttotal: 7.57s\tremaining: 45.4s\n",
      "1100:\tlearn: 0.1684935\ttest: 0.1762345\tbest: 0.1762345 (1100)\ttotal: 8.24s\tremaining: 44.2s\n",
      "1200:\tlearn: 0.1670685\ttest: 0.1755016\tbest: 0.1755016 (1200)\ttotal: 8.96s\tremaining: 43.3s\n",
      "1300:\tlearn: 0.1658475\ttest: 0.1749858\tbest: 0.1749858 (1300)\ttotal: 9.76s\tremaining: 42.8s\n",
      "1400:\tlearn: 0.1645789\ttest: 0.1744392\tbest: 0.1744319 (1399)\ttotal: 10.9s\tremaining: 43.6s\n",
      "1500:\tlearn: 0.1634132\ttest: 0.1738843\tbest: 0.1738843 (1500)\ttotal: 11.8s\tremaining: 43.3s\n",
      "1600:\tlearn: 0.1622436\ttest: 0.1733572\tbest: 0.1733535 (1598)\ttotal: 12.4s\tremaining: 41.9s\n",
      "1700:\tlearn: 0.1612547\ttest: 0.1730328\tbest: 0.1730103 (1696)\ttotal: 13s\tremaining: 40.4s\n",
      "1800:\tlearn: 0.1603376\ttest: 0.1727537\tbest: 0.1727537 (1800)\ttotal: 13.5s\tremaining: 39s\n",
      "1900:\tlearn: 0.1594579\ttest: 0.1724812\tbest: 0.1724743 (1897)\ttotal: 14.4s\tremaining: 38.5s\n",
      "2000:\tlearn: 0.1584857\ttest: 0.1721107\tbest: 0.1721046 (1998)\ttotal: 15.1s\tremaining: 37.8s\n",
      "2100:\tlearn: 0.1575686\ttest: 0.1718351\tbest: 0.1718351 (2100)\ttotal: 16.1s\tremaining: 37.6s\n",
      "2200:\tlearn: 0.1567255\ttest: 0.1715938\tbest: 0.1715938 (2200)\ttotal: 18s\tremaining: 39.1s\n",
      "2300:\tlearn: 0.1558741\ttest: 0.1713667\tbest: 0.1713667 (2300)\ttotal: 19.3s\tremaining: 39.5s\n",
      "2400:\tlearn: 0.1551654\ttest: 0.1712478\tbest: 0.1712417 (2398)\ttotal: 20.7s\tremaining: 39.6s\n",
      "2500:\tlearn: 0.1544003\ttest: 0.1710839\tbest: 0.1710786 (2495)\ttotal: 22s\tremaining: 39.6s\n",
      "2600:\tlearn: 0.1536713\ttest: 0.1708924\tbest: 0.1708921 (2599)\ttotal: 22.8s\tremaining: 38.6s\n",
      "2700:\tlearn: 0.1530135\ttest: 0.1707074\tbest: 0.1706960 (2696)\ttotal: 23.8s\tremaining: 37.9s\n",
      "2800:\tlearn: 0.1523030\ttest: 0.1704928\tbest: 0.1704928 (2800)\ttotal: 24.6s\tremaining: 36.8s\n",
      "2900:\tlearn: 0.1516117\ttest: 0.1703176\tbest: 0.1703163 (2899)\ttotal: 25.2s\tremaining: 35.5s\n",
      "3000:\tlearn: 0.1509339\ttest: 0.1701432\tbest: 0.1701432 (3000)\ttotal: 25.9s\tremaining: 34.6s\n",
      "3100:\tlearn: 0.1502939\ttest: 0.1700591\tbest: 0.1700566 (3096)\ttotal: 26.5s\tremaining: 33.3s\n",
      "3200:\tlearn: 0.1496840\ttest: 0.1699479\tbest: 0.1699463 (3184)\ttotal: 27.2s\tremaining: 32.3s\n",
      "3300:\tlearn: 0.1490788\ttest: 0.1698345\tbest: 0.1698345 (3300)\ttotal: 28s\tremaining: 31.4s\n",
      "3400:\tlearn: 0.1484457\ttest: 0.1697384\tbest: 0.1697384 (3400)\ttotal: 28.8s\tremaining: 30.4s\n"
     ]
    },
    {
     "name": "stdout",
     "output_type": "stream",
     "text": [
      "3500:\tlearn: 0.1478403\ttest: 0.1695625\tbest: 0.1695625 (3500)\ttotal: 29.8s\tremaining: 29.8s\n",
      "3600:\tlearn: 0.1472705\ttest: 0.1694877\tbest: 0.1694821 (3595)\ttotal: 30.5s\tremaining: 28.8s\n",
      "3700:\tlearn: 0.1467138\ttest: 0.1694211\tbest: 0.1694180 (3693)\ttotal: 31.3s\tremaining: 27.9s\n",
      "3800:\tlearn: 0.1461697\ttest: 0.1693031\tbest: 0.1692949 (3797)\ttotal: 32.3s\tremaining: 27.2s\n",
      "3900:\tlearn: 0.1456519\ttest: 0.1691620\tbest: 0.1691620 (3900)\ttotal: 33.2s\tremaining: 26.4s\n",
      "4000:\tlearn: 0.1451273\ttest: 0.1691009\tbest: 0.1690996 (3992)\ttotal: 33.9s\tremaining: 25.4s\n",
      "4100:\tlearn: 0.1446162\ttest: 0.1689941\tbest: 0.1689941 (4100)\ttotal: 34.9s\tremaining: 24.6s\n",
      "4200:\tlearn: 0.1441179\ttest: 0.1688693\tbest: 0.1688593 (4192)\ttotal: 35.7s\tremaining: 23.8s\n",
      "4300:\tlearn: 0.1436283\ttest: 0.1687415\tbest: 0.1687415 (4300)\ttotal: 37.2s\tremaining: 23.4s\n",
      "4400:\tlearn: 0.1431266\ttest: 0.1686333\tbest: 0.1686325 (4399)\ttotal: 38.2s\tremaining: 22.5s\n",
      "4500:\tlearn: 0.1426185\ttest: 0.1686044\tbest: 0.1685965 (4489)\ttotal: 38.9s\tremaining: 21.6s\n",
      "4600:\tlearn: 0.1420735\ttest: 0.1685338\tbest: 0.1685338 (4600)\ttotal: 39.8s\tremaining: 20.7s\n",
      "4700:\tlearn: 0.1415938\ttest: 0.1685037\tbest: 0.1684968 (4682)\ttotal: 40.5s\tremaining: 19.8s\n",
      "4800:\tlearn: 0.1410798\ttest: 0.1684342\tbest: 0.1684327 (4798)\ttotal: 41.2s\tremaining: 18.9s\n",
      "4900:\tlearn: 0.1406076\ttest: 0.1683124\tbest: 0.1683124 (4900)\ttotal: 42s\tremaining: 18s\n",
      "5000:\tlearn: 0.1401412\ttest: 0.1682676\tbest: 0.1682653 (4990)\ttotal: 42.7s\tremaining: 17.1s\n",
      "5100:\tlearn: 0.1396343\ttest: 0.1681683\tbest: 0.1681683 (5100)\ttotal: 43.7s\tremaining: 16.3s\n",
      "5200:\tlearn: 0.1392148\ttest: 0.1681114\tbest: 0.1680997 (5193)\ttotal: 45s\tremaining: 15.6s\n",
      "5300:\tlearn: 0.1387926\ttest: 0.1680133\tbest: 0.1680133 (5300)\ttotal: 46.1s\tremaining: 14.8s\n",
      "5400:\tlearn: 0.1383244\ttest: 0.1679372\tbest: 0.1679372 (5400)\ttotal: 46.9s\tremaining: 13.9s\n",
      "5500:\tlearn: 0.1378788\ttest: 0.1678790\tbest: 0.1678790 (5500)\ttotal: 47.9s\tremaining: 13s\n",
      "5600:\tlearn: 0.1374463\ttest: 0.1678474\tbest: 0.1678354 (5593)\ttotal: 48.6s\tremaining: 12.1s\n",
      "5700:\tlearn: 0.1370342\ttest: 0.1677743\tbest: 0.1677726 (5692)\ttotal: 49.5s\tremaining: 11.3s\n",
      "5800:\tlearn: 0.1366001\ttest: 0.1677344\tbest: 0.1677335 (5796)\ttotal: 50.9s\tremaining: 10.5s\n",
      "5900:\tlearn: 0.1362191\ttest: 0.1676837\tbest: 0.1676837 (5900)\ttotal: 52.3s\tremaining: 9.74s\n",
      "6000:\tlearn: 0.1358180\ttest: 0.1676254\tbest: 0.1676138 (5970)\ttotal: 53.6s\tremaining: 8.92s\n",
      "6100:\tlearn: 0.1353796\ttest: 0.1675208\tbest: 0.1675208 (6100)\ttotal: 54.6s\tremaining: 8.04s\n",
      "6200:\tlearn: 0.1349505\ttest: 0.1674419\tbest: 0.1674405 (6199)\ttotal: 56.5s\tremaining: 7.27s\n",
      "6300:\tlearn: 0.1345104\ttest: 0.1673772\tbest: 0.1673662 (6292)\ttotal: 57.5s\tremaining: 6.38s\n",
      "6400:\tlearn: 0.1341154\ttest: 0.1673159\tbest: 0.1673093 (6393)\ttotal: 58.2s\tremaining: 5.45s\n",
      "6500:\tlearn: 0.1337280\ttest: 0.1672886\tbest: 0.1672765 (6460)\ttotal: 59.4s\tremaining: 4.56s\n",
      "6600:\tlearn: 0.1333367\ttest: 0.1672205\tbest: 0.1672205 (6600)\ttotal: 1m\tremaining: 3.67s\n",
      "6700:\tlearn: 0.1329427\ttest: 0.1671591\tbest: 0.1671591 (6700)\ttotal: 1m 1s\tremaining: 2.74s\n",
      "6800:\tlearn: 0.1325507\ttest: 0.1670951\tbest: 0.1670943 (6799)\ttotal: 1m 2s\tremaining: 1.82s\n",
      "6900:\tlearn: 0.1321570\ttest: 0.1670613\tbest: 0.1670613 (6900)\ttotal: 1m 2s\tremaining: 903ms\n",
      "6999:\tlearn: 0.1317822\ttest: 0.1670070\tbest: 0.1670010 (6995)\ttotal: 1m 3s\tremaining: 0us\n",
      "\n",
      "bestTest = 0.1670010021\n",
      "bestIteration = 6995\n",
      "\n",
      "Shrink model to first 6996 iterations.\n",
      "3 Fold Test MAPE: 0.167\n",
      "Learning rate set to 0.025198\n",
      "0:\tlearn: 0.4446174\ttest: 0.4531624\tbest: 0.4531624 (0)\ttotal: 9.53ms\tremaining: 1m 6s\n",
      "100:\tlearn: 0.2227186\ttest: 0.2253589\tbest: 0.2253589 (100)\ttotal: 738ms\tremaining: 50.4s\n",
      "200:\tlearn: 0.1960374\ttest: 0.1982241\tbest: 0.1982241 (200)\ttotal: 1.5s\tremaining: 50.7s\n",
      "300:\tlearn: 0.1871662\ttest: 0.1897397\tbest: 0.1897397 (300)\ttotal: 2.22s\tremaining: 49.3s\n",
      "400:\tlearn: 0.1824685\ttest: 0.1856160\tbest: 0.1856160 (400)\ttotal: 2.94s\tremaining: 48.3s\n",
      "500:\tlearn: 0.1789931\ttest: 0.1829405\tbest: 0.1829405 (500)\ttotal: 3.64s\tremaining: 47.3s\n",
      "600:\tlearn: 0.1764642\ttest: 0.1812048\tbest: 0.1812048 (600)\ttotal: 4.37s\tremaining: 46.5s\n",
      "700:\tlearn: 0.1743427\ttest: 0.1798847\tbest: 0.1798847 (700)\ttotal: 5.11s\tremaining: 45.9s\n",
      "800:\tlearn: 0.1725758\ttest: 0.1789551\tbest: 0.1789551 (800)\ttotal: 5.81s\tremaining: 45s\n",
      "900:\tlearn: 0.1707666\ttest: 0.1779938\tbest: 0.1779938 (900)\ttotal: 6.56s\tremaining: 44.4s\n",
      "1000:\tlearn: 0.1691811\ttest: 0.1772560\tbest: 0.1772560 (1000)\ttotal: 7.3s\tremaining: 43.7s\n",
      "1100:\tlearn: 0.1676807\ttest: 0.1765787\tbest: 0.1765787 (1100)\ttotal: 8.05s\tremaining: 43.1s\n",
      "1200:\tlearn: 0.1663090\ttest: 0.1758977\tbest: 0.1758977 (1200)\ttotal: 8.8s\tremaining: 42.5s\n",
      "1300:\tlearn: 0.1650429\ttest: 0.1753088\tbest: 0.1753088 (1300)\ttotal: 9.54s\tremaining: 41.8s\n",
      "1400:\tlearn: 0.1638216\ttest: 0.1748259\tbest: 0.1748259 (1400)\ttotal: 10.3s\tremaining: 41.1s\n",
      "1500:\tlearn: 0.1628365\ttest: 0.1744797\tbest: 0.1744773 (1499)\ttotal: 11s\tremaining: 40.4s\n",
      "1600:\tlearn: 0.1618129\ttest: 0.1740425\tbest: 0.1740425 (1600)\ttotal: 11.8s\tremaining: 39.7s\n",
      "1700:\tlearn: 0.1608028\ttest: 0.1736902\tbest: 0.1736902 (1700)\ttotal: 12.5s\tremaining: 39.1s\n",
      "1800:\tlearn: 0.1599030\ttest: 0.1733362\tbest: 0.1733324 (1798)\ttotal: 13.3s\tremaining: 38.5s\n",
      "1900:\tlearn: 0.1589453\ttest: 0.1730041\tbest: 0.1730041 (1900)\ttotal: 14.1s\tremaining: 37.8s\n",
      "2000:\tlearn: 0.1579956\ttest: 0.1726565\tbest: 0.1726543 (1999)\ttotal: 14.8s\tremaining: 37.1s\n",
      "2100:\tlearn: 0.1571792\ttest: 0.1723930\tbest: 0.1723930 (2100)\ttotal: 15.6s\tremaining: 36.4s\n",
      "2200:\tlearn: 0.1563740\ttest: 0.1721190\tbest: 0.1721190 (2200)\ttotal: 17s\tremaining: 37.2s\n",
      "2300:\tlearn: 0.1555183\ttest: 0.1718746\tbest: 0.1718746 (2300)\ttotal: 18.8s\tremaining: 38.4s\n",
      "2400:\tlearn: 0.1546505\ttest: 0.1715059\tbest: 0.1715059 (2400)\ttotal: 20.5s\tremaining: 39.3s\n",
      "2500:\tlearn: 0.1538710\ttest: 0.1712776\tbest: 0.1712753 (2498)\ttotal: 22.2s\tremaining: 39.9s\n",
      "2600:\tlearn: 0.1530533\ttest: 0.1710246\tbest: 0.1710246 (2600)\ttotal: 23s\tremaining: 38.9s\n",
      "2700:\tlearn: 0.1522801\ttest: 0.1707332\tbest: 0.1707332 (2700)\ttotal: 23.8s\tremaining: 37.8s\n",
      "2800:\tlearn: 0.1515998\ttest: 0.1706165\tbest: 0.1706035 (2783)\ttotal: 24.5s\tremaining: 36.7s\n",
      "2900:\tlearn: 0.1508697\ttest: 0.1704568\tbest: 0.1704568 (2900)\ttotal: 25.2s\tremaining: 35.7s\n",
      "3000:\tlearn: 0.1501493\ttest: 0.1702714\tbest: 0.1702714 (3000)\ttotal: 26s\tremaining: 34.6s\n",
      "3100:\tlearn: 0.1494464\ttest: 0.1701038\tbest: 0.1700994 (3098)\ttotal: 26.7s\tremaining: 33.6s\n",
      "3200:\tlearn: 0.1487627\ttest: 0.1699880\tbest: 0.1699823 (3199)\ttotal: 27.5s\tremaining: 32.6s\n",
      "3300:\tlearn: 0.1480839\ttest: 0.1697875\tbest: 0.1697875 (3300)\ttotal: 28.3s\tremaining: 31.7s\n",
      "3400:\tlearn: 0.1475128\ttest: 0.1697172\tbest: 0.1697172 (3400)\ttotal: 29s\tremaining: 30.7s\n",
      "3500:\tlearn: 0.1469226\ttest: 0.1695648\tbest: 0.1695648 (3500)\ttotal: 29.8s\tremaining: 29.8s\n",
      "3600:\tlearn: 0.1463099\ttest: 0.1694345\tbest: 0.1694345 (3600)\ttotal: 30.9s\tremaining: 29.2s\n",
      "3700:\tlearn: 0.1457019\ttest: 0.1693357\tbest: 0.1693336 (3697)\ttotal: 32.6s\tremaining: 29.1s\n",
      "3800:\tlearn: 0.1451356\ttest: 0.1692541\tbest: 0.1692449 (3778)\ttotal: 33.6s\tremaining: 28.3s\n",
      "3900:\tlearn: 0.1446344\ttest: 0.1691293\tbest: 0.1691244 (3898)\ttotal: 34.4s\tremaining: 27.3s\n",
      "4000:\tlearn: 0.1441226\ttest: 0.1690316\tbest: 0.1690281 (3999)\ttotal: 35.1s\tremaining: 26.3s\n",
      "4100:\tlearn: 0.1436044\ttest: 0.1688965\tbest: 0.1688965 (4100)\ttotal: 35.9s\tremaining: 25.4s\n",
      "4200:\tlearn: 0.1430597\ttest: 0.1688405\tbest: 0.1688310 (4173)\ttotal: 36.6s\tremaining: 24.4s\n",
      "4300:\tlearn: 0.1425565\ttest: 0.1687320\tbest: 0.1687311 (4299)\ttotal: 37.4s\tremaining: 23.5s\n",
      "4400:\tlearn: 0.1420400\ttest: 0.1686520\tbest: 0.1686325 (4391)\ttotal: 38.1s\tremaining: 22.5s\n",
      "4500:\tlearn: 0.1415261\ttest: 0.1685900\tbest: 0.1685699 (4462)\ttotal: 38.9s\tremaining: 21.6s\n",
      "4600:\tlearn: 0.1410348\ttest: 0.1685163\tbest: 0.1685154 (4593)\ttotal: 39.7s\tremaining: 20.7s\n",
      "4700:\tlearn: 0.1405507\ttest: 0.1684308\tbest: 0.1684308 (4700)\ttotal: 40.4s\tremaining: 19.8s\n",
      "4800:\tlearn: 0.1401097\ttest: 0.1683479\tbest: 0.1683479 (4800)\ttotal: 41.1s\tremaining: 18.8s\n",
      "4900:\tlearn: 0.1396092\ttest: 0.1682296\tbest: 0.1682287 (4898)\ttotal: 41.9s\tremaining: 17.9s\n",
      "5000:\tlearn: 0.1390973\ttest: 0.1681659\tbest: 0.1681542 (4970)\ttotal: 42.7s\tremaining: 17.1s\n",
      "5100:\tlearn: 0.1386322\ttest: 0.1681100\tbest: 0.1681100 (5100)\ttotal: 43.4s\tremaining: 16.2s\n",
      "5200:\tlearn: 0.1381883\ttest: 0.1680601\tbest: 0.1680601 (5200)\ttotal: 44.2s\tremaining: 15.3s\n"
     ]
    },
    {
     "name": "stdout",
     "output_type": "stream",
     "text": [
      "5300:\tlearn: 0.1377336\ttest: 0.1680194\tbest: 0.1680194 (5300)\ttotal: 44.9s\tremaining: 14.4s\n",
      "5400:\tlearn: 0.1372924\ttest: 0.1679935\tbest: 0.1679935 (5400)\ttotal: 45.7s\tremaining: 13.5s\n",
      "5500:\tlearn: 0.1368527\ttest: 0.1679801\tbest: 0.1679744 (5460)\ttotal: 46.4s\tremaining: 12.7s\n",
      "5600:\tlearn: 0.1364171\ttest: 0.1679242\tbest: 0.1679242 (5600)\ttotal: 47.2s\tremaining: 11.8s\n",
      "5700:\tlearn: 0.1359627\ttest: 0.1678149\tbest: 0.1678146 (5699)\ttotal: 47.9s\tremaining: 10.9s\n",
      "5800:\tlearn: 0.1355680\ttest: 0.1677487\tbest: 0.1677480 (5798)\ttotal: 48.7s\tremaining: 10.1s\n",
      "5900:\tlearn: 0.1351796\ttest: 0.1677197\tbest: 0.1677168 (5848)\ttotal: 49.5s\tremaining: 9.21s\n",
      "6000:\tlearn: 0.1347469\ttest: 0.1676175\tbest: 0.1676107 (5997)\ttotal: 50.2s\tremaining: 8.36s\n",
      "6100:\tlearn: 0.1343666\ttest: 0.1675882\tbest: 0.1675812 (6097)\ttotal: 51s\tremaining: 7.51s\n",
      "6200:\tlearn: 0.1339512\ttest: 0.1675466\tbest: 0.1675428 (6186)\ttotal: 51.7s\tremaining: 6.67s\n",
      "6300:\tlearn: 0.1335746\ttest: 0.1675106\tbest: 0.1675031 (6298)\ttotal: 52.5s\tremaining: 5.82s\n",
      "6400:\tlearn: 0.1331718\ttest: 0.1675147\tbest: 0.1675023 (6332)\ttotal: 53.2s\tremaining: 4.98s\n",
      "6500:\tlearn: 0.1327877\ttest: 0.1674778\tbest: 0.1674767 (6494)\ttotal: 54s\tremaining: 4.14s\n",
      "6600:\tlearn: 0.1324164\ttest: 0.1674140\tbest: 0.1674129 (6598)\ttotal: 54.8s\tremaining: 3.31s\n",
      "6700:\tlearn: 0.1320298\ttest: 0.1674024\tbest: 0.1673839 (6671)\ttotal: 55.5s\tremaining: 2.48s\n",
      "6800:\tlearn: 0.1316450\ttest: 0.1673508\tbest: 0.1673433 (6781)\ttotal: 56.3s\tremaining: 1.65s\n",
      "6900:\tlearn: 0.1312785\ttest: 0.1673148\tbest: 0.1673108 (6896)\ttotal: 57.1s\tremaining: 819ms\n",
      "6999:\tlearn: 0.1309232\ttest: 0.1672537\tbest: 0.1672505 (6996)\ttotal: 58.1s\tremaining: 0us\n",
      "\n",
      "bestTest = 0.1672505077\n",
      "bestIteration = 6996\n",
      "\n",
      "Shrink model to first 6997 iterations.\n",
      "4 Fold Test MAPE: 0.167\n",
      "Learning rate set to 0.025198\n",
      "0:\tlearn: 0.4471596\ttest: 0.4451370\tbest: 0.4451370 (0)\ttotal: 9.2ms\tremaining: 1m 4s\n",
      "100:\tlearn: 0.2232152\ttest: 0.2242008\tbest: 0.2242008 (100)\ttotal: 740ms\tremaining: 50.6s\n",
      "200:\tlearn: 0.1964531\ttest: 0.1999099\tbest: 0.1999099 (200)\ttotal: 1.46s\tremaining: 49.5s\n",
      "300:\tlearn: 0.1875085\ttest: 0.1920485\tbest: 0.1920485 (300)\ttotal: 2.18s\tremaining: 48.6s\n",
      "400:\tlearn: 0.1828071\ttest: 0.1883310\tbest: 0.1883310 (400)\ttotal: 2.91s\tremaining: 47.8s\n",
      "500:\tlearn: 0.1794392\ttest: 0.1861706\tbest: 0.1861706 (500)\ttotal: 3.61s\tremaining: 46.9s\n",
      "600:\tlearn: 0.1766486\ttest: 0.1844952\tbest: 0.1844952 (600)\ttotal: 5.04s\tremaining: 53.6s\n",
      "700:\tlearn: 0.1744564\ttest: 0.1831335\tbest: 0.1831335 (700)\ttotal: 6.77s\tremaining: 1m\n",
      "800:\tlearn: 0.1724948\ttest: 0.1820212\tbest: 0.1820212 (800)\ttotal: 7.49s\tremaining: 58s\n",
      "900:\tlearn: 0.1707357\ttest: 0.1811445\tbest: 0.1811445 (900)\ttotal: 8.25s\tremaining: 55.8s\n",
      "1000:\tlearn: 0.1691602\ttest: 0.1803612\tbest: 0.1803612 (1000)\ttotal: 9.39s\tremaining: 56.3s\n",
      "1100:\tlearn: 0.1677093\ttest: 0.1797120\tbest: 0.1797120 (1100)\ttotal: 11.1s\tremaining: 59.6s\n",
      "1200:\tlearn: 0.1663167\ttest: 0.1790401\tbest: 0.1790401 (1200)\ttotal: 12.3s\tremaining: 59.6s\n",
      "1300:\tlearn: 0.1650410\ttest: 0.1784789\tbest: 0.1784789 (1300)\ttotal: 13.1s\tremaining: 57.3s\n",
      "1400:\tlearn: 0.1638583\ttest: 0.1779403\tbest: 0.1779403 (1400)\ttotal: 13.8s\tremaining: 55.2s\n",
      "1500:\tlearn: 0.1627006\ttest: 0.1773886\tbest: 0.1773886 (1500)\ttotal: 14.5s\tremaining: 53.2s\n",
      "1600:\tlearn: 0.1616985\ttest: 0.1769671\tbest: 0.1769671 (1600)\ttotal: 15.3s\tremaining: 51.5s\n",
      "1700:\tlearn: 0.1607252\ttest: 0.1766853\tbest: 0.1766853 (1700)\ttotal: 16s\tremaining: 49.9s\n",
      "1800:\tlearn: 0.1598025\ttest: 0.1763291\tbest: 0.1763255 (1799)\ttotal: 16.7s\tremaining: 48.3s\n",
      "1900:\tlearn: 0.1587905\ttest: 0.1758860\tbest: 0.1758860 (1900)\ttotal: 17.5s\tremaining: 46.9s\n",
      "2000:\tlearn: 0.1579160\ttest: 0.1755019\tbest: 0.1754999 (1999)\ttotal: 18.2s\tremaining: 45.5s\n",
      "2100:\tlearn: 0.1571059\ttest: 0.1752665\tbest: 0.1752607 (2091)\ttotal: 19s\tremaining: 44.2s\n",
      "2200:\tlearn: 0.1562306\ttest: 0.1748809\tbest: 0.1748809 (2200)\ttotal: 19.7s\tremaining: 42.9s\n",
      "2300:\tlearn: 0.1554495\ttest: 0.1745886\tbest: 0.1745886 (2300)\ttotal: 20.4s\tremaining: 41.7s\n",
      "2400:\tlearn: 0.1546764\ttest: 0.1742794\tbest: 0.1742794 (2400)\ttotal: 21.2s\tremaining: 40.6s\n",
      "2500:\tlearn: 0.1538584\ttest: 0.1739750\tbest: 0.1739750 (2500)\ttotal: 21.9s\tremaining: 39.4s\n",
      "2600:\tlearn: 0.1531785\ttest: 0.1737579\tbest: 0.1737579 (2600)\ttotal: 22.7s\tremaining: 38.3s\n",
      "2700:\tlearn: 0.1524869\ttest: 0.1735650\tbest: 0.1735631 (2694)\ttotal: 23.4s\tremaining: 37.3s\n",
      "2800:\tlearn: 0.1517868\ttest: 0.1733577\tbest: 0.1733570 (2795)\ttotal: 24.1s\tremaining: 36.2s\n",
      "2900:\tlearn: 0.1510905\ttest: 0.1731211\tbest: 0.1731170 (2896)\ttotal: 24.9s\tremaining: 35.2s\n",
      "3000:\tlearn: 0.1504511\ttest: 0.1729439\tbest: 0.1729439 (3000)\ttotal: 25.6s\tremaining: 34.2s\n",
      "3100:\tlearn: 0.1497906\ttest: 0.1727966\tbest: 0.1727902 (3099)\ttotal: 26.4s\tremaining: 33.2s\n",
      "3200:\tlearn: 0.1491917\ttest: 0.1726416\tbest: 0.1726388 (3199)\ttotal: 27.2s\tremaining: 32.2s\n",
      "3300:\tlearn: 0.1486168\ttest: 0.1724940\tbest: 0.1724940 (3300)\ttotal: 28.7s\tremaining: 32.1s\n",
      "3400:\tlearn: 0.1480289\ttest: 0.1723515\tbest: 0.1723374 (3388)\ttotal: 29.4s\tremaining: 31.1s\n",
      "3500:\tlearn: 0.1474596\ttest: 0.1722095\tbest: 0.1722095 (3500)\ttotal: 30.2s\tremaining: 30.1s\n",
      "3600:\tlearn: 0.1468893\ttest: 0.1721332\tbest: 0.1721332 (3600)\ttotal: 30.9s\tremaining: 29.2s\n",
      "3700:\tlearn: 0.1463068\ttest: 0.1720057\tbest: 0.1720057 (3700)\ttotal: 31.7s\tremaining: 28.3s\n",
      "3800:\tlearn: 0.1457331\ttest: 0.1718754\tbest: 0.1718705 (3798)\ttotal: 32.4s\tremaining: 27.3s\n",
      "3900:\tlearn: 0.1451808\ttest: 0.1717755\tbest: 0.1717636 (3881)\ttotal: 33.2s\tremaining: 26.4s\n",
      "4000:\tlearn: 0.1446406\ttest: 0.1716789\tbest: 0.1716763 (3999)\ttotal: 34.3s\tremaining: 25.7s\n",
      "4100:\tlearn: 0.1440981\ttest: 0.1715413\tbest: 0.1715390 (4094)\ttotal: 35.2s\tremaining: 24.9s\n",
      "4200:\tlearn: 0.1435992\ttest: 0.1714293\tbest: 0.1714287 (4199)\ttotal: 36s\tremaining: 24s\n",
      "4300:\tlearn: 0.1430680\ttest: 0.1713083\tbest: 0.1713057 (4299)\ttotal: 36.8s\tremaining: 23.1s\n",
      "4400:\tlearn: 0.1425489\ttest: 0.1712113\tbest: 0.1712039 (4385)\ttotal: 37.6s\tremaining: 22.2s\n",
      "4500:\tlearn: 0.1420223\ttest: 0.1711098\tbest: 0.1711098 (4500)\ttotal: 38.1s\tremaining: 21.1s\n",
      "4600:\tlearn: 0.1415292\ttest: 0.1710223\tbest: 0.1710223 (4600)\ttotal: 39.1s\tremaining: 20.4s\n",
      "4700:\tlearn: 0.1410691\ttest: 0.1709015\tbest: 0.1709015 (4700)\ttotal: 40.3s\tremaining: 19.7s\n",
      "4800:\tlearn: 0.1405825\ttest: 0.1707995\tbest: 0.1707899 (4788)\ttotal: 41.1s\tremaining: 18.8s\n",
      "4900:\tlearn: 0.1400834\ttest: 0.1706929\tbest: 0.1706929 (4900)\ttotal: 41.6s\tremaining: 17.8s\n",
      "5000:\tlearn: 0.1396193\ttest: 0.1705919\tbest: 0.1705903 (4999)\ttotal: 42.6s\tremaining: 17s\n",
      "5100:\tlearn: 0.1391343\ttest: 0.1705153\tbest: 0.1705141 (5087)\ttotal: 43.2s\tremaining: 16.1s\n",
      "5200:\tlearn: 0.1386574\ttest: 0.1704660\tbest: 0.1704476 (5170)\ttotal: 44.1s\tremaining: 15.2s\n",
      "5300:\tlearn: 0.1382248\ttest: 0.1703902\tbest: 0.1703861 (5294)\ttotal: 44.8s\tremaining: 14.4s\n",
      "5400:\tlearn: 0.1377736\ttest: 0.1702928\tbest: 0.1702880 (5398)\ttotal: 45.5s\tremaining: 13.5s\n",
      "5500:\tlearn: 0.1373133\ttest: 0.1702535\tbest: 0.1702366 (5472)\ttotal: 46.4s\tremaining: 12.7s\n",
      "5600:\tlearn: 0.1368953\ttest: 0.1701863\tbest: 0.1701719 (5589)\ttotal: 47.3s\tremaining: 11.8s\n",
      "5700:\tlearn: 0.1364620\ttest: 0.1700991\tbest: 0.1700991 (5700)\ttotal: 47.9s\tremaining: 10.9s\n",
      "5800:\tlearn: 0.1360503\ttest: 0.1700573\tbest: 0.1700546 (5798)\ttotal: 48.7s\tremaining: 10.1s\n",
      "5900:\tlearn: 0.1356272\ttest: 0.1699658\tbest: 0.1699638 (5898)\ttotal: 49.5s\tremaining: 9.22s\n",
      "6000:\tlearn: 0.1351925\ttest: 0.1699125\tbest: 0.1699117 (5997)\ttotal: 50.4s\tremaining: 8.38s\n",
      "6100:\tlearn: 0.1347901\ttest: 0.1698383\tbest: 0.1698335 (6099)\ttotal: 51.1s\tremaining: 7.52s\n",
      "6200:\tlearn: 0.1343874\ttest: 0.1698093\tbest: 0.1697936 (6191)\ttotal: 51.9s\tremaining: 6.68s\n",
      "6300:\tlearn: 0.1339645\ttest: 0.1697282\tbest: 0.1697282 (6300)\ttotal: 52.6s\tremaining: 5.83s\n",
      "6400:\tlearn: 0.1335721\ttest: 0.1696954\tbest: 0.1696907 (6382)\ttotal: 53.3s\tremaining: 4.99s\n",
      "6500:\tlearn: 0.1331685\ttest: 0.1696241\tbest: 0.1696241 (6500)\ttotal: 54.2s\tremaining: 4.16s\n",
      "6600:\tlearn: 0.1327661\ttest: 0.1695522\tbest: 0.1695522 (6600)\ttotal: 54.9s\tremaining: 3.32s\n",
      "6700:\tlearn: 0.1324054\ttest: 0.1694944\tbest: 0.1694944 (6700)\ttotal: 55.6s\tremaining: 2.48s\n",
      "6800:\tlearn: 0.1320009\ttest: 0.1694567\tbest: 0.1694509 (6799)\ttotal: 56.3s\tremaining: 1.65s\n",
      "6900:\tlearn: 0.1316110\ttest: 0.1694533\tbest: 0.1694468 (6865)\ttotal: 57.3s\tremaining: 822ms\n",
      "6999:\tlearn: 0.1312624\ttest: 0.1694225\tbest: 0.1694190 (6984)\ttotal: 58.5s\tremaining: 0us\n",
      "\n",
      "bestTest = 0.1694190029\n",
      "bestIteration = 6984\n",
      "\n",
      "Shrink model to first 6985 iterations.\n"
     ]
    },
    {
     "name": "stdout",
     "output_type": "stream",
     "text": [
      "5 Fold Test MAPE: 0.169\n",
      "\n",
      "Mean Score: 0.167\n",
      "Std Score: 0.0024\n",
      "Max Score: 0.169\n",
      "Min Score: 0.162\n"
     ]
    }
   ],
   "source": [
    "submissions = pd.DataFrame(0,columns=[\"sub_1\"],index=df.index) # в submissions пишем предикты по каждой модели\n",
    "score_ls = []\n",
    "splits = list(KFold(n_splits=5, shuffle=True, random_state=RANDOM_SEED).split(X, y))\n",
    "\n",
    "for idx, (train_idx, test_idx) in tqdm(enumerate(splits), total=5,):\n",
    "    # use the indexes to extract the folds in the train and validation data\n",
    "    X_train, y_train, X_test, y_test = X.iloc[train_idx], y[train_idx], X.iloc[test_idx], y[test_idx]\n",
    "    # model for this fold\n",
    "    model = cat_model(y_train, X_train, X_test, y_test,)\n",
    "    # score model on test\n",
    "    test_predict = model.predict(X_test)\n",
    "    test_score = mape(y_test, test_predict)\n",
    "    score_ls.append(test_score)\n",
    "    print(f\"{idx+1} Fold Test MAPE: {mape(y_test, test_predict):0.3f}\")\n",
    "    # submissions\n",
    "    submissions[f'sub_{idx+1}'] = model.predict(X)\n",
    "    model.save_model(f'catboost_fold_{idx+1}.model')\n",
    "    \n",
    "print(f'Mean Score: {np.mean(score_ls):0.3f}')\n",
    "print(f'Std Score: {np.std(score_ls):0.4f}')\n",
    "print(f'Max Score: {np.max(score_ls):0.3f}')\n",
    "print(f'Min Score: {np.min(score_ls):0.3f}')"
   ]
  },
  {
   "cell_type": "code",
   "execution_count": 25,
   "metadata": {
    "colab": {
     "base_uri": "https://localhost:8080/",
     "height": 363
    },
    "executionInfo": {
     "elapsed": 556,
     "status": "ok",
     "timestamp": 1610627699837,
     "user": {
      "displayName": "Фёдор Азаров",
      "photoUrl": "",
      "userId": "06471763163872178747"
     },
     "user_tz": -180
    },
    "id": "8tsW45pyBVKf",
    "outputId": "1802f0ec-e7e5-4264-d4df-e119b4dde100"
   },
   "outputs": [
    {
     "data": {
      "text/html": [
       "<div>\n",
       "<style scoped>\n",
       "    .dataframe tbody tr th:only-of-type {\n",
       "        vertical-align: middle;\n",
       "    }\n",
       "\n",
       "    .dataframe tbody tr th {\n",
       "        vertical-align: top;\n",
       "    }\n",
       "\n",
       "    .dataframe thead th {\n",
       "        text-align: right;\n",
       "    }\n",
       "</style>\n",
       "<table border=\"1\" class=\"dataframe\">\n",
       "  <thead>\n",
       "    <tr style=\"text-align: right;\">\n",
       "      <th></th>\n",
       "      <th>sub_1</th>\n",
       "      <th>sub_2</th>\n",
       "      <th>sub_3</th>\n",
       "      <th>sub_4</th>\n",
       "      <th>sub_5</th>\n",
       "    </tr>\n",
       "  </thead>\n",
       "  <tbody>\n",
       "    <tr>\n",
       "      <th>0</th>\n",
       "      <td>6.150055e+06</td>\n",
       "      <td>6.420567e+06</td>\n",
       "      <td>7.830331e+06</td>\n",
       "      <td>6.739648e+06</td>\n",
       "      <td>6.355821e+06</td>\n",
       "    </tr>\n",
       "    <tr>\n",
       "      <th>1</th>\n",
       "      <td>6.664767e+06</td>\n",
       "      <td>6.343361e+06</td>\n",
       "      <td>6.702276e+06</td>\n",
       "      <td>6.559411e+06</td>\n",
       "      <td>6.709008e+06</td>\n",
       "    </tr>\n",
       "    <tr>\n",
       "      <th>2</th>\n",
       "      <td>1.074002e+07</td>\n",
       "      <td>1.088523e+07</td>\n",
       "      <td>1.078824e+07</td>\n",
       "      <td>1.057001e+07</td>\n",
       "      <td>1.095106e+07</td>\n",
       "    </tr>\n",
       "    <tr>\n",
       "      <th>3</th>\n",
       "      <td>4.823804e+06</td>\n",
       "      <td>4.305026e+06</td>\n",
       "      <td>4.819319e+06</td>\n",
       "      <td>5.041234e+06</td>\n",
       "      <td>5.062820e+06</td>\n",
       "    </tr>\n",
       "    <tr>\n",
       "      <th>4</th>\n",
       "      <td>6.543354e+06</td>\n",
       "      <td>6.530025e+06</td>\n",
       "      <td>6.656011e+06</td>\n",
       "      <td>6.705112e+06</td>\n",
       "      <td>6.794609e+06</td>\n",
       "    </tr>\n",
       "    <tr>\n",
       "      <th>5</th>\n",
       "      <td>7.529061e+06</td>\n",
       "      <td>7.794898e+06</td>\n",
       "      <td>8.086521e+06</td>\n",
       "      <td>7.916178e+06</td>\n",
       "      <td>7.654107e+06</td>\n",
       "    </tr>\n",
       "    <tr>\n",
       "      <th>6</th>\n",
       "      <td>3.861869e+06</td>\n",
       "      <td>3.579131e+06</td>\n",
       "      <td>3.660145e+06</td>\n",
       "      <td>3.561473e+06</td>\n",
       "      <td>3.538923e+06</td>\n",
       "    </tr>\n",
       "    <tr>\n",
       "      <th>7</th>\n",
       "      <td>6.091849e+06</td>\n",
       "      <td>6.783414e+06</td>\n",
       "      <td>6.499555e+06</td>\n",
       "      <td>6.205268e+06</td>\n",
       "      <td>6.508734e+06</td>\n",
       "    </tr>\n",
       "    <tr>\n",
       "      <th>8</th>\n",
       "      <td>6.800348e+06</td>\n",
       "      <td>6.472557e+06</td>\n",
       "      <td>6.901472e+06</td>\n",
       "      <td>6.562097e+06</td>\n",
       "      <td>6.784395e+06</td>\n",
       "    </tr>\n",
       "    <tr>\n",
       "      <th>9</th>\n",
       "      <td>4.324761e+06</td>\n",
       "      <td>4.585461e+06</td>\n",
       "      <td>4.623920e+06</td>\n",
       "      <td>4.229054e+06</td>\n",
       "      <td>4.899326e+06</td>\n",
       "    </tr>\n",
       "  </tbody>\n",
       "</table>\n",
       "</div>"
      ],
      "text/plain": [
       "          sub_1         sub_2         sub_3         sub_4         sub_5\n",
       "0  6.150055e+06  6.420567e+06  7.830331e+06  6.739648e+06  6.355821e+06\n",
       "1  6.664767e+06  6.343361e+06  6.702276e+06  6.559411e+06  6.709008e+06\n",
       "2  1.074002e+07  1.088523e+07  1.078824e+07  1.057001e+07  1.095106e+07\n",
       "3  4.823804e+06  4.305026e+06  4.819319e+06  5.041234e+06  5.062820e+06\n",
       "4  6.543354e+06  6.530025e+06  6.656011e+06  6.705112e+06  6.794609e+06\n",
       "5  7.529061e+06  7.794898e+06  8.086521e+06  7.916178e+06  7.654107e+06\n",
       "6  3.861869e+06  3.579131e+06  3.660145e+06  3.561473e+06  3.538923e+06\n",
       "7  6.091849e+06  6.783414e+06  6.499555e+06  6.205268e+06  6.508734e+06\n",
       "8  6.800348e+06  6.472557e+06  6.901472e+06  6.562097e+06  6.784395e+06\n",
       "9  4.324761e+06  4.585461e+06  4.623920e+06  4.229054e+06  4.899326e+06"
      ]
     },
     "execution_count": 25,
     "metadata": {},
     "output_type": "execute_result"
    }
   ],
   "source": [
    "submissions.head(10)"
   ]
  },
  {
   "cell_type": "code",
   "execution_count": 26,
   "metadata": {
    "id": "jDOxkYYt5Rll"
   },
   "outputs": [],
   "source": [
    "submissions['blend'] = (submissions.sum(axis=1))/len(submissions.columns)"
   ]
  },
  {
   "cell_type": "code",
   "execution_count": 27,
   "metadata": {
    "colab": {
     "base_uri": "https://localhost:8080/"
    },
    "executionInfo": {
     "elapsed": 1065,
     "status": "ok",
     "timestamp": 1610637055315,
     "user": {
      "displayName": "Фёдор Азаров",
      "photoUrl": "",
      "userId": "06471763163872178747"
     },
     "user_tz": -180
    },
    "id": "K5rnlHca5awV",
    "outputId": "eb86cbfc-88d6-4a0c-cd3d-03c48626e7bb",
    "scrolled": false
   },
   "outputs": [
    {
     "name": "stdout",
     "output_type": "stream",
     "text": [
      "TEST mape: 13.70%\n"
     ]
    }
   ],
   "source": [
    "#test_predict_catboost = model.predict(X_test)\n",
    "print(f\"TEST mape: {(mape(y, submissions['blend']))*100:0.2f}%\")"
   ]
  },
  {
   "cell_type": "markdown",
   "metadata": {},
   "source": [
    "Благодаря кросс-валидации нам удалось улучшить результаты работы catboost на 2.53 % по метрике mape."
   ]
  },
  {
   "cell_type": "markdown",
   "metadata": {
    "id": "vNuqdIM4BIjj"
   },
   "source": [
    "# Общие выводы:\n"
   ]
  },
  {
   "cell_type": "markdown",
   "metadata": {},
   "source": [
    "В результате проведенной работы нам удалось добиться наилучшего результата, используя кросс-валидацию для catboost. Но если смотреть на скорость обучения, то для прототипа нам может подойти и случайный лес."
   ]
  }
 ],
 "metadata": {
  "colab": {
   "collapsed_sections": [],
   "name": "cian_model.ipynb",
   "provenance": [],
   "toc_visible": true
  },
  "kernelspec": {
   "display_name": "Python 3",
   "language": "python",
   "name": "python3"
  },
  "language_info": {
   "codemirror_mode": {
    "name": "ipython",
    "version": 3
   },
   "file_extension": ".py",
   "mimetype": "text/x-python",
   "name": "python",
   "nbconvert_exporter": "python",
   "pygments_lexer": "ipython3",
   "version": "3.8.3"
  }
 },
 "nbformat": 4,
 "nbformat_minor": 1
}
